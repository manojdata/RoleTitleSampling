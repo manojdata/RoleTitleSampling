{
 "cells": [
  {
   "cell_type": "code",
   "execution_count": 180,
   "metadata": {},
   "outputs": [],
   "source": [
    "import pandas as pd\n",
    "import numpy as np\n",
    "import matplotlib.pyplot as plt\n",
    "import powerlaw\n",
    "import random\n",
    "plt.style.use('bmh')\n",
    "%matplotlib inline"
   ]
  },
  {
   "cell_type": "code",
   "execution_count": 116,
   "metadata": {},
   "outputs": [
    {
     "name": "stdout",
     "output_type": "stream",
     "text": [
      "Collecting powerlaw\n",
      "  Downloading https://files.pythonhosted.org/packages/d5/4e/3ceab890fafff8e78a5fd7f5340c232c38b21d181fcd32d7a31079db3646/powerlaw-1.4.6.tar.gz\n",
      "Requirement already satisfied: scipy in /Users/mgambhir/opt/anaconda3/lib/python3.7/site-packages (from powerlaw) (1.3.1)\n",
      "Requirement already satisfied: numpy in /Users/mgambhir/opt/anaconda3/lib/python3.7/site-packages (from powerlaw) (1.17.2)\n",
      "Requirement already satisfied: matplotlib in /Users/mgambhir/opt/anaconda3/lib/python3.7/site-packages (from powerlaw) (3.1.1)\n",
      "Requirement already satisfied: mpmath in /Users/mgambhir/opt/anaconda3/lib/python3.7/site-packages (from powerlaw) (1.1.0)\n",
      "Requirement already satisfied: cycler>=0.10 in /Users/mgambhir/opt/anaconda3/lib/python3.7/site-packages (from matplotlib->powerlaw) (0.10.0)\n",
      "Requirement already satisfied: kiwisolver>=1.0.1 in /Users/mgambhir/opt/anaconda3/lib/python3.7/site-packages (from matplotlib->powerlaw) (1.1.0)\n",
      "Requirement already satisfied: pyparsing!=2.0.4,!=2.1.2,!=2.1.6,>=2.0.1 in /Users/mgambhir/opt/anaconda3/lib/python3.7/site-packages (from matplotlib->powerlaw) (2.4.2)\n",
      "Requirement already satisfied: python-dateutil>=2.1 in /Users/mgambhir/opt/anaconda3/lib/python3.7/site-packages (from matplotlib->powerlaw) (2.8.0)\n",
      "Requirement already satisfied: six in /Users/mgambhir/opt/anaconda3/lib/python3.7/site-packages (from cycler>=0.10->matplotlib->powerlaw) (1.12.0)\n",
      "Requirement already satisfied: setuptools in /Users/mgambhir/opt/anaconda3/lib/python3.7/site-packages (from kiwisolver>=1.0.1->matplotlib->powerlaw) (41.4.0)\n",
      "Building wheels for collected packages: powerlaw\n",
      "  Building wheel for powerlaw (setup.py) ... \u001b[?25ldone\n",
      "\u001b[?25h  Created wheel for powerlaw: filename=powerlaw-1.4.6-cp37-none-any.whl size=24787 sha256=897f13eecf2db8afec9fd629c755fad04978375051d12dd09fa259891537c367\n",
      "  Stored in directory: /Users/mgambhir/Library/Caches/pip/wheels/e0/27/02/08d0e2865072bfd8d7c655e290521e3feca3fc22f1ac460601\n",
      "Successfully built powerlaw\n",
      "Installing collected packages: powerlaw\n",
      "Successfully installed powerlaw-1.4.6\n"
     ]
    }
   ],
   "source": [
    "!pip install powerlaw"
   ]
  },
  {
   "cell_type": "code",
   "execution_count": 5,
   "metadata": {},
   "outputs": [
    {
     "name": "stdout",
     "output_type": "stream",
     "text": [
      "['seaborn-dark', 'seaborn-darkgrid', 'seaborn-ticks', 'fivethirtyeight', 'seaborn-whitegrid', 'classic', '_classic_test', 'fast', 'seaborn-talk', 'seaborn-dark-palette', 'seaborn-bright', 'seaborn-pastel', 'grayscale', 'seaborn-notebook', 'ggplot', 'seaborn-colorblind', 'seaborn-muted', 'seaborn', 'Solarize_Light2', 'seaborn-paper', 'bmh', 'tableau-colorblind10', 'seaborn-white', 'dark_background', 'seaborn-poster', 'seaborn-deep']\n"
     ]
    }
   ],
   "source": [
    "print(plt.style.available)"
   ]
  },
  {
   "cell_type": "code",
   "execution_count": 6,
   "metadata": {},
   "outputs": [
    {
     "name": "stdout",
     "output_type": "stream",
     "text": [
      "/Users/mgambhir/OneDrive - SEEK/code/notebooks\n"
     ]
    }
   ],
   "source": [
    "!pwd"
   ]
  },
  {
   "cell_type": "code",
   "execution_count": 7,
   "metadata": {},
   "outputs": [
    {
     "name": "stdout",
     "output_type": "stream",
     "text": [
      "ANZ_RT_norm.xlsx                       metrics-data-set-with-duplicates.ipynb\n",
      "RoleTitlesAnalysis1.ipynb              roletitle12-12-2019.csv\n",
      "Untitled.ipynb                         roletitle27-11-2019.csv\n"
     ]
    }
   ],
   "source": [
    "!ls"
   ]
  },
  {
   "cell_type": "code",
   "execution_count": 8,
   "metadata": {},
   "outputs": [],
   "source": [
    "roles=pd.read_excel(\"ANZ_RT_norm.xlsx\")\n",
    "roles1=pd.read_csv(\"roletitle27-11-2019.csv\")"
   ]
  },
  {
   "cell_type": "code",
   "execution_count": 9,
   "metadata": {},
   "outputs": [
    {
     "name": "stdout",
     "output_type": "stream",
     "text": [
      "Index(['Row Labels', 'Count of jobId', 'top'], dtype='object')\n"
     ]
    }
   ],
   "source": [
    "print(roles.columns)"
   ]
  },
  {
   "cell_type": "code",
   "execution_count": 10,
   "metadata": {},
   "outputs": [
    {
     "data": {
      "text/html": [
       "<div>\n",
       "<style scoped>\n",
       "    .dataframe tbody tr th:only-of-type {\n",
       "        vertical-align: middle;\n",
       "    }\n",
       "\n",
       "    .dataframe tbody tr th {\n",
       "        vertical-align: top;\n",
       "    }\n",
       "\n",
       "    .dataframe thead th {\n",
       "        text-align: right;\n",
       "    }\n",
       "</style>\n",
       "<table border=\"1\" class=\"dataframe\">\n",
       "  <thead>\n",
       "    <tr style=\"text-align: right;\">\n",
       "      <th></th>\n",
       "      <th>Row Labels</th>\n",
       "      <th>Count of jobId</th>\n",
       "      <th>top</th>\n",
       "    </tr>\n",
       "  </thead>\n",
       "  <tbody>\n",
       "    <tr>\n",
       "      <td>0</td>\n",
       "      <td>Administration Officer</td>\n",
       "      <td>39465</td>\n",
       "      <td>1</td>\n",
       "    </tr>\n",
       "    <tr>\n",
       "      <td>1</td>\n",
       "      <td>Project Manager</td>\n",
       "      <td>29342</td>\n",
       "      <td>2</td>\n",
       "    </tr>\n",
       "    <tr>\n",
       "      <td>2</td>\n",
       "      <td>Customer Service Representative</td>\n",
       "      <td>24348</td>\n",
       "      <td>3</td>\n",
       "    </tr>\n",
       "    <tr>\n",
       "      <td>3</td>\n",
       "      <td>Registered Nurse</td>\n",
       "      <td>23878</td>\n",
       "      <td>4</td>\n",
       "    </tr>\n",
       "    <tr>\n",
       "      <td>4</td>\n",
       "      <td>Store Manager</td>\n",
       "      <td>20359</td>\n",
       "      <td>5</td>\n",
       "    </tr>\n",
       "  </tbody>\n",
       "</table>\n",
       "</div>"
      ],
      "text/plain": [
       "                        Row Labels  Count of jobId  top\n",
       "0           Administration Officer           39465    1\n",
       "1                  Project Manager           29342    2\n",
       "2  Customer Service Representative           24348    3\n",
       "3                 Registered Nurse           23878    4\n",
       "4                    Store Manager           20359    5"
      ]
     },
     "execution_count": 10,
     "metadata": {},
     "output_type": "execute_result"
    }
   ],
   "source": [
    "roles.head()"
   ]
  },
  {
   "cell_type": "code",
   "execution_count": 11,
   "metadata": {},
   "outputs": [],
   "source": [
    "roles['log_count']=np.log(roles['Count of jobId'])"
   ]
  },
  {
   "cell_type": "code",
   "execution_count": 12,
   "metadata": {},
   "outputs": [],
   "source": [
    "roles['log_rank']=np.log(roles['top'])"
   ]
  },
  {
   "cell_type": "code",
   "execution_count": 13,
   "metadata": {},
   "outputs": [
    {
     "data": {
      "text/html": [
       "<div>\n",
       "<style scoped>\n",
       "    .dataframe tbody tr th:only-of-type {\n",
       "        vertical-align: middle;\n",
       "    }\n",
       "\n",
       "    .dataframe tbody tr th {\n",
       "        vertical-align: top;\n",
       "    }\n",
       "\n",
       "    .dataframe thead th {\n",
       "        text-align: right;\n",
       "    }\n",
       "</style>\n",
       "<table border=\"1\" class=\"dataframe\">\n",
       "  <thead>\n",
       "    <tr style=\"text-align: right;\">\n",
       "      <th></th>\n",
       "      <th>Row Labels</th>\n",
       "      <th>Count of jobId</th>\n",
       "      <th>top</th>\n",
       "      <th>log_count</th>\n",
       "      <th>log_rank</th>\n",
       "    </tr>\n",
       "  </thead>\n",
       "  <tbody>\n",
       "    <tr>\n",
       "      <td>0</td>\n",
       "      <td>Administration Officer</td>\n",
       "      <td>39465</td>\n",
       "      <td>1</td>\n",
       "      <td>10.583169</td>\n",
       "      <td>0.000000</td>\n",
       "    </tr>\n",
       "    <tr>\n",
       "      <td>1</td>\n",
       "      <td>Project Manager</td>\n",
       "      <td>29342</td>\n",
       "      <td>2</td>\n",
       "      <td>10.286775</td>\n",
       "      <td>0.693147</td>\n",
       "    </tr>\n",
       "    <tr>\n",
       "      <td>2</td>\n",
       "      <td>Customer Service Representative</td>\n",
       "      <td>24348</td>\n",
       "      <td>3</td>\n",
       "      <td>10.100205</td>\n",
       "      <td>1.098612</td>\n",
       "    </tr>\n",
       "    <tr>\n",
       "      <td>3</td>\n",
       "      <td>Registered Nurse</td>\n",
       "      <td>23878</td>\n",
       "      <td>4</td>\n",
       "      <td>10.080713</td>\n",
       "      <td>1.386294</td>\n",
       "    </tr>\n",
       "    <tr>\n",
       "      <td>4</td>\n",
       "      <td>Store Manager</td>\n",
       "      <td>20359</td>\n",
       "      <td>5</td>\n",
       "      <td>9.921278</td>\n",
       "      <td>1.609438</td>\n",
       "    </tr>\n",
       "  </tbody>\n",
       "</table>\n",
       "</div>"
      ],
      "text/plain": [
       "                        Row Labels  Count of jobId  top  log_count  log_rank\n",
       "0           Administration Officer           39465    1  10.583169  0.000000\n",
       "1                  Project Manager           29342    2  10.286775  0.693147\n",
       "2  Customer Service Representative           24348    3  10.100205  1.098612\n",
       "3                 Registered Nurse           23878    4  10.080713  1.386294\n",
       "4                    Store Manager           20359    5   9.921278  1.609438"
      ]
     },
     "execution_count": 13,
     "metadata": {},
     "output_type": "execute_result"
    }
   ],
   "source": [
    "roles.head()"
   ]
  },
  {
   "cell_type": "code",
   "execution_count": 14,
   "metadata": {},
   "outputs": [
    {
     "data": {
      "text/plain": [
       "<matplotlib.axes._subplots.AxesSubplot at 0x1236b3450>"
      ]
     },
     "execution_count": 14,
     "metadata": {},
     "output_type": "execute_result"
    },
    {
     "data": {
      "image/png": "[encoded data removed]",
      "text/plain": [
       "<Figure size 432x288 with 1 Axes>"
      ]
     },
     "metadata": {
      "needs_background": "light"
     },
     "output_type": "display_data"
    }
   ],
   "source": [
    "roles.plot('log_rank','log_count',kind='line')"
   ]
  },
  {
   "cell_type": "code",
   "execution_count": 15,
   "metadata": {},
   "outputs": [
    {
     "data": {
      "text/plain": [
       "<matplotlib.axes._subplots.AxesSubplot at 0x12377add0>"
      ]
     },
     "execution_count": 15,
     "metadata": {},
     "output_type": "execute_result"
    },
    {
     "data": {
      "image/png": "[encoded data removed]",
      "text/plain": [
       "<Figure size 432x288 with 1 Axes>"
      ]
     },
     "metadata": {
      "needs_background": "light"
     },
     "output_type": "display_data"
    }
   ],
   "source": [
    "roles.plot('top','log_count',kind='line')"
   ]
  },
  {
   "cell_type": "code",
   "execution_count": 16,
   "metadata": {},
   "outputs": [
    {
     "name": "stdout",
     "output_type": "stream",
     "text": [
      "/Users/mgambhir/OneDrive - SEEK/code/notebooks\n"
     ]
    }
   ],
   "source": [
    "!pwd"
   ]
  },
  {
   "cell_type": "code",
   "execution_count": 17,
   "metadata": {},
   "outputs": [
    {
     "name": "stdout",
     "output_type": "stream",
     "text": [
      "ANZ_RT_norm.xlsx                       metrics-data-set-with-duplicates.ipynb\n",
      "RoleTitlesAnalysis1.ipynb              roletitle12-12-2019.csv\n",
      "Untitled.ipynb                         roletitle27-11-2019.csv\n"
     ]
    }
   ],
   "source": [
    "!ls"
   ]
  },
  {
   "cell_type": "code",
   "execution_count": 18,
   "metadata": {},
   "outputs": [
    {
     "data": {
      "text/plain": [
       "Index(['remineDate', 'jobId', 'inputText', 'longestVariantMatch',\n",
       "       'normalisedLongestMatch', 'coreTitle', 'rawSeniority',\n",
       "       'normalisedSeniority', 'normalisedMatchWithSeniority', 'variant2',\n",
       "       'variant3', 'variant4', 'variant5', 'longestVariantAboveThreshold',\n",
       "       'longestNormalisedAboveThreshold',\n",
       "       'mostGranularNormalisedOrCoreAboveThreshold'],\n",
       "      dtype='object')"
      ]
     },
     "execution_count": 18,
     "metadata": {},
     "output_type": "execute_result"
    }
   ],
   "source": [
    "roles1.columns"
   ]
  },
  {
   "cell_type": "code",
   "execution_count": 24,
   "metadata": {},
   "outputs": [],
   "source": [
    "uniqueRoles1=roles1['normalisedLongestMatch'].unique()"
   ]
  },
  {
   "cell_type": "code",
   "execution_count": 26,
   "metadata": {},
   "outputs": [
    {
     "data": {
      "text/plain": [
       "20202"
      ]
     },
     "execution_count": 26,
     "metadata": {},
     "output_type": "execute_result"
    }
   ],
   "source": [
    "len(uniqueRoles1.tolist())"
   ]
  },
  {
   "cell_type": "code",
   "execution_count": 28,
   "metadata": {},
   "outputs": [],
   "source": [
    "df2=roles1['normalisedLongestMatch'].value_counts()"
   ]
  },
  {
   "cell_type": "code",
   "execution_count": 29,
   "metadata": {},
   "outputs": [
    {
     "data": {
      "text/plain": [
       "Administration Officer             38882\n",
       "Project Manager                    28970\n",
       "Registered Nurse                   23606\n",
       "Customer Service Representative    23478\n",
       "Store Manager                      19794\n",
       "Name: normalisedLongestMatch, dtype: int64"
      ]
     },
     "execution_count": 29,
     "metadata": {},
     "output_type": "execute_result"
    }
   ],
   "source": [
    "df2.head()"
   ]
  },
  {
   "cell_type": "code",
   "execution_count": 34,
   "metadata": {},
   "outputs": [
    {
     "data": {
      "text/plain": [
       "(2850590, 16)"
      ]
     },
     "execution_count": 34,
     "metadata": {},
     "output_type": "execute_result"
    }
   ],
   "source": [
    "roles1.shape"
   ]
  },
  {
   "cell_type": "code",
   "execution_count": 449,
   "metadata": {},
   "outputs": [],
   "source": [
    "import decimal\n",
    "sampleNum = 100\n",
    "z = [decimal.Decimal(i) / decimal.Decimal(sampleNum) for i in range(1, sampleNum+1)]"
   ]
  },
  {
   "cell_type": "code",
   "execution_count": 450,
   "metadata": {},
   "outputs": [
    {
     "data": {
      "text/plain": [
       "[Decimal('0.01'),\n",
       " Decimal('0.02'),\n",
       " Decimal('0.03'),\n",
       " Decimal('0.04'),\n",
       " Decimal('0.05'),\n",
       " Decimal('0.06'),\n",
       " Decimal('0.07'),\n",
       " Decimal('0.08'),\n",
       " Decimal('0.09'),\n",
       " Decimal('0.1'),\n",
       " Decimal('0.11'),\n",
       " Decimal('0.12'),\n",
       " Decimal('0.13'),\n",
       " Decimal('0.14'),\n",
       " Decimal('0.15'),\n",
       " Decimal('0.16'),\n",
       " Decimal('0.17'),\n",
       " Decimal('0.18'),\n",
       " Decimal('0.19'),\n",
       " Decimal('0.2'),\n",
       " Decimal('0.21'),\n",
       " Decimal('0.22'),\n",
       " Decimal('0.23'),\n",
       " Decimal('0.24'),\n",
       " Decimal('0.25'),\n",
       " Decimal('0.26'),\n",
       " Decimal('0.27'),\n",
       " Decimal('0.28'),\n",
       " Decimal('0.29'),\n",
       " Decimal('0.3'),\n",
       " Decimal('0.31'),\n",
       " Decimal('0.32'),\n",
       " Decimal('0.33'),\n",
       " Decimal('0.34'),\n",
       " Decimal('0.35'),\n",
       " Decimal('0.36'),\n",
       " Decimal('0.37'),\n",
       " Decimal('0.38'),\n",
       " Decimal('0.39'),\n",
       " Decimal('0.4'),\n",
       " Decimal('0.41'),\n",
       " Decimal('0.42'),\n",
       " Decimal('0.43'),\n",
       " Decimal('0.44'),\n",
       " Decimal('0.45'),\n",
       " Decimal('0.46'),\n",
       " Decimal('0.47'),\n",
       " Decimal('0.48'),\n",
       " Decimal('0.49'),\n",
       " Decimal('0.5'),\n",
       " Decimal('0.51'),\n",
       " Decimal('0.52'),\n",
       " Decimal('0.53'),\n",
       " Decimal('0.54'),\n",
       " Decimal('0.55'),\n",
       " Decimal('0.56'),\n",
       " Decimal('0.57'),\n",
       " Decimal('0.58'),\n",
       " Decimal('0.59'),\n",
       " Decimal('0.6'),\n",
       " Decimal('0.61'),\n",
       " Decimal('0.62'),\n",
       " Decimal('0.63'),\n",
       " Decimal('0.64'),\n",
       " Decimal('0.65'),\n",
       " Decimal('0.66'),\n",
       " Decimal('0.67'),\n",
       " Decimal('0.68'),\n",
       " Decimal('0.69'),\n",
       " Decimal('0.7'),\n",
       " Decimal('0.71'),\n",
       " Decimal('0.72'),\n",
       " Decimal('0.73'),\n",
       " Decimal('0.74'),\n",
       " Decimal('0.75'),\n",
       " Decimal('0.76'),\n",
       " Decimal('0.77'),\n",
       " Decimal('0.78'),\n",
       " Decimal('0.79'),\n",
       " Decimal('0.8'),\n",
       " Decimal('0.81'),\n",
       " Decimal('0.82'),\n",
       " Decimal('0.83'),\n",
       " Decimal('0.84'),\n",
       " Decimal('0.85'),\n",
       " Decimal('0.86'),\n",
       " Decimal('0.87'),\n",
       " Decimal('0.88'),\n",
       " Decimal('0.89'),\n",
       " Decimal('0.9'),\n",
       " Decimal('0.91'),\n",
       " Decimal('0.92'),\n",
       " Decimal('0.93'),\n",
       " Decimal('0.94'),\n",
       " Decimal('0.95'),\n",
       " Decimal('0.96'),\n",
       " Decimal('0.97'),\n",
       " Decimal('0.98'),\n",
       " Decimal('0.99'),\n",
       " Decimal('1')]"
      ]
     },
     "execution_count": 450,
     "metadata": {},
     "output_type": "execute_result"
    }
   ],
   "source": [
    "z"
   ]
  },
  {
   "cell_type": "code",
   "execution_count": 436,
   "metadata": {},
   "outputs": [],
   "source": [
    "numRows=roles1.shape[0]"
   ]
  },
  {
   "cell_type": "code",
   "execution_count": 437,
   "metadata": {},
   "outputs": [
    {
     "data": {
      "text/plain": [
       "5701180"
      ]
     },
     "execution_count": 437,
     "metadata": {},
     "output_type": "execute_result"
    }
   ],
   "source": [
    "int(z[1]*numRows)"
   ]
  },
  {
   "cell_type": "code",
   "execution_count": 438,
   "metadata": {},
   "outputs": [
    {
     "data": {
      "text/plain": [
       "0                              NaN\n",
       "1          Client Services Officer\n",
       "2                           Fitter\n",
       "3         Trade Assistant Labourer\n",
       "4                              NaN\n",
       "5                    Dance Teacher\n",
       "6                              NaN\n",
       "7                 Business Partner\n",
       "8                 Sales Consultant\n",
       "9    Telecommunications Technician\n",
       "Name: normalisedLongestMatch, dtype: object"
      ]
     },
     "execution_count": 438,
     "metadata": {},
     "output_type": "execute_result"
    }
   ],
   "source": [
    "roles1['normalisedLongestMatch'][0:10]"
   ]
  },
  {
   "cell_type": "code",
   "execution_count": 453,
   "metadata": {},
   "outputs": [
    {
     "name": "stdout",
     "output_type": "stream",
     "text": [
      "28505\n",
      "57011\n",
      "85517\n",
      "114023\n",
      "142529\n"
     ]
    },
    {
     "name": "stderr",
     "output_type": "stream",
     "text": [
      "Calculating best minimal value for power law fit\n",
      "Calculating best minimal value for power law fit\n",
      "Calculating best minimal value for power law fit\n",
      "Calculating best minimal value for power law fit\n",
      "Calculating best minimal value for power law fit\n"
     ]
    },
    {
     "name": "stdout",
     "output_type": "stream",
     "text": [
      "171035\n",
      "199541\n",
      "228047\n"
     ]
    },
    {
     "name": "stderr",
     "output_type": "stream",
     "text": [
      "Calculating best minimal value for power law fit\n",
      "Calculating best minimal value for power law fit\n",
      "Calculating best minimal value for power law fit\n"
     ]
    },
    {
     "name": "stdout",
     "output_type": "stream",
     "text": [
      "256553\n",
      "285059\n"
     ]
    },
    {
     "name": "stderr",
     "output_type": "stream",
     "text": [
      "Calculating best minimal value for power law fit\n",
      "Calculating best minimal value for power law fit\n"
     ]
    },
    {
     "name": "stdout",
     "output_type": "stream",
     "text": [
      "313564\n",
      "342070\n",
      "370576\n"
     ]
    },
    {
     "name": "stderr",
     "output_type": "stream",
     "text": [
      "Calculating best minimal value for power law fit\n",
      "Calculating best minimal value for power law fit\n",
      "Calculating best minimal value for power law fit\n",
      "Calculating best minimal value for power law fit\n"
     ]
    },
    {
     "name": "stdout",
     "output_type": "stream",
     "text": [
      "399082\n",
      "427588\n",
      "456094\n"
     ]
    },
    {
     "name": "stderr",
     "output_type": "stream",
     "text": [
      "Calculating best minimal value for power law fit\n",
      "Calculating best minimal value for power law fit\n"
     ]
    },
    {
     "name": "stdout",
     "output_type": "stream",
     "text": [
      "484600\n",
      "513106\n"
     ]
    },
    {
     "name": "stderr",
     "output_type": "stream",
     "text": [
      "Calculating best minimal value for power law fit\n",
      "Calculating best minimal value for power law fit\n"
     ]
    },
    {
     "name": "stdout",
     "output_type": "stream",
     "text": [
      "541612\n",
      "570118\n"
     ]
    },
    {
     "name": "stderr",
     "output_type": "stream",
     "text": [
      "Calculating best minimal value for power law fit\n",
      "Calculating best minimal value for power law fit\n"
     ]
    },
    {
     "name": "stdout",
     "output_type": "stream",
     "text": [
      "598623\n",
      "627129\n"
     ]
    },
    {
     "name": "stderr",
     "output_type": "stream",
     "text": [
      "Calculating best minimal value for power law fit\n",
      "Calculating best minimal value for power law fit\n"
     ]
    },
    {
     "name": "stdout",
     "output_type": "stream",
     "text": [
      "655635\n",
      "684141\n"
     ]
    },
    {
     "name": "stderr",
     "output_type": "stream",
     "text": [
      "Calculating best minimal value for power law fit\n",
      "Calculating best minimal value for power law fit\n"
     ]
    },
    {
     "name": "stdout",
     "output_type": "stream",
     "text": [
      "712647\n",
      "741153\n"
     ]
    },
    {
     "name": "stderr",
     "output_type": "stream",
     "text": [
      "Calculating best minimal value for power law fit\n",
      "Calculating best minimal value for power law fit\n"
     ]
    },
    {
     "name": "stdout",
     "output_type": "stream",
     "text": [
      "769659\n",
      "798165\n"
     ]
    },
    {
     "name": "stderr",
     "output_type": "stream",
     "text": [
      "Calculating best minimal value for power law fit\n",
      "Calculating best minimal value for power law fit\n"
     ]
    },
    {
     "name": "stdout",
     "output_type": "stream",
     "text": [
      "826671\n",
      "855177\n"
     ]
    },
    {
     "name": "stderr",
     "output_type": "stream",
     "text": [
      "Calculating best minimal value for power law fit\n",
      "Calculating best minimal value for power law fit\n",
      "Calculating best minimal value for power law fit\n"
     ]
    },
    {
     "name": "stdout",
     "output_type": "stream",
     "text": [
      "883682\n",
      "912188\n"
     ]
    },
    {
     "name": "stderr",
     "output_type": "stream",
     "text": [
      "Calculating best minimal value for power law fit\n"
     ]
    },
    {
     "name": "stdout",
     "output_type": "stream",
     "text": [
      "940694\n",
      "969200\n"
     ]
    },
    {
     "name": "stderr",
     "output_type": "stream",
     "text": [
      "Calculating best minimal value for power law fit\n",
      "Calculating best minimal value for power law fit\n"
     ]
    },
    {
     "name": "stdout",
     "output_type": "stream",
     "text": [
      "997706\n",
      "1026212\n"
     ]
    },
    {
     "name": "stderr",
     "output_type": "stream",
     "text": [
      "Calculating best minimal value for power law fit\n",
      "Calculating best minimal value for power law fit\n"
     ]
    },
    {
     "name": "stdout",
     "output_type": "stream",
     "text": [
      "1054718\n",
      "1083224\n"
     ]
    },
    {
     "name": "stderr",
     "output_type": "stream",
     "text": [
      "Calculating best minimal value for power law fit\n",
      "Calculating best minimal value for power law fit\n"
     ]
    },
    {
     "name": "stdout",
     "output_type": "stream",
     "text": [
      "1111730\n"
     ]
    },
    {
     "name": "stderr",
     "output_type": "stream",
     "text": [
      "Calculating best minimal value for power law fit\n"
     ]
    },
    {
     "name": "stdout",
     "output_type": "stream",
     "text": [
      "1140236\n",
      "1168741\n"
     ]
    },
    {
     "name": "stderr",
     "output_type": "stream",
     "text": [
      "Calculating best minimal value for power law fit\n",
      "Calculating best minimal value for power law fit\n"
     ]
    },
    {
     "name": "stdout",
     "output_type": "stream",
     "text": [
      "1197247\n",
      "1225753\n"
     ]
    },
    {
     "name": "stderr",
     "output_type": "stream",
     "text": [
      "Calculating best minimal value for power law fit\n",
      "Calculating best minimal value for power law fit\n"
     ]
    },
    {
     "name": "stdout",
     "output_type": "stream",
     "text": [
      "1254259\n"
     ]
    },
    {
     "name": "stderr",
     "output_type": "stream",
     "text": [
      "Calculating best minimal value for power law fit\n"
     ]
    },
    {
     "name": "stdout",
     "output_type": "stream",
     "text": [
      "1282765\n",
      "1311271\n"
     ]
    },
    {
     "name": "stderr",
     "output_type": "stream",
     "text": [
      "Calculating best minimal value for power law fit\n",
      "Calculating best minimal value for power law fit\n"
     ]
    },
    {
     "name": "stdout",
     "output_type": "stream",
     "text": [
      "1339777\n",
      "1368283\n"
     ]
    },
    {
     "name": "stderr",
     "output_type": "stream",
     "text": [
      "Calculating best minimal value for power law fit\n",
      "Calculating best minimal value for power law fit\n"
     ]
    },
    {
     "name": "stdout",
     "output_type": "stream",
     "text": [
      "1396789\n",
      "1425295\n"
     ]
    },
    {
     "name": "stderr",
     "output_type": "stream",
     "text": [
      "Calculating best minimal value for power law fit\n",
      "Calculating best minimal value for power law fit\n"
     ]
    },
    {
     "name": "stdout",
     "output_type": "stream",
     "text": [
      "1453800\n",
      "1482306\n"
     ]
    },
    {
     "name": "stderr",
     "output_type": "stream",
     "text": [
      "Calculating best minimal value for power law fit\n",
      "Calculating best minimal value for power law fit\n"
     ]
    },
    {
     "name": "stdout",
     "output_type": "stream",
     "text": [
      "1510812\n",
      "1539318\n"
     ]
    },
    {
     "name": "stderr",
     "output_type": "stream",
     "text": [
      "Calculating best minimal value for power law fit\n",
      "Calculating best minimal value for power law fit\n"
     ]
    },
    {
     "name": "stdout",
     "output_type": "stream",
     "text": [
      "1567824\n",
      "1596330\n"
     ]
    },
    {
     "name": "stderr",
     "output_type": "stream",
     "text": [
      "Calculating best minimal value for power law fit\n",
      "Calculating best minimal value for power law fit\n"
     ]
    },
    {
     "name": "stdout",
     "output_type": "stream",
     "text": [
      "1624836\n"
     ]
    },
    {
     "name": "stderr",
     "output_type": "stream",
     "text": [
      "Calculating best minimal value for power law fit\n"
     ]
    },
    {
     "name": "stdout",
     "output_type": "stream",
     "text": [
      "1653342\n"
     ]
    },
    {
     "name": "stderr",
     "output_type": "stream",
     "text": [
      "Calculating best minimal value for power law fit\n"
     ]
    },
    {
     "name": "stdout",
     "output_type": "stream",
     "text": [
      "1681848\n"
     ]
    },
    {
     "name": "stderr",
     "output_type": "stream",
     "text": [
      "Calculating best minimal value for power law fit\n"
     ]
    },
    {
     "name": "stdout",
     "output_type": "stream",
     "text": [
      "1710354\n"
     ]
    },
    {
     "name": "stderr",
     "output_type": "stream",
     "text": [
      "Calculating best minimal value for power law fit\n"
     ]
    },
    {
     "name": "stdout",
     "output_type": "stream",
     "text": [
      "1738859\n"
     ]
    },
    {
     "name": "stderr",
     "output_type": "stream",
     "text": [
      "Calculating best minimal value for power law fit\n"
     ]
    },
    {
     "name": "stdout",
     "output_type": "stream",
     "text": [
      "1767365\n"
     ]
    },
    {
     "name": "stderr",
     "output_type": "stream",
     "text": [
      "Calculating best minimal value for power law fit\n"
     ]
    },
    {
     "name": "stdout",
     "output_type": "stream",
     "text": [
      "1795871\n"
     ]
    },
    {
     "name": "stderr",
     "output_type": "stream",
     "text": [
      "Calculating best minimal value for power law fit\n"
     ]
    },
    {
     "name": "stdout",
     "output_type": "stream",
     "text": [
      "1824377\n"
     ]
    },
    {
     "name": "stderr",
     "output_type": "stream",
     "text": [
      "Calculating best minimal value for power law fit\n"
     ]
    },
    {
     "name": "stdout",
     "output_type": "stream",
     "text": [
      "1852883\n"
     ]
    },
    {
     "name": "stderr",
     "output_type": "stream",
     "text": [
      "Calculating best minimal value for power law fit\n"
     ]
    },
    {
     "name": "stdout",
     "output_type": "stream",
     "text": [
      "1881389\n"
     ]
    },
    {
     "name": "stderr",
     "output_type": "stream",
     "text": [
      "Calculating best minimal value for power law fit\n"
     ]
    },
    {
     "name": "stdout",
     "output_type": "stream",
     "text": [
      "1909895\n"
     ]
    },
    {
     "name": "stderr",
     "output_type": "stream",
     "text": [
      "Calculating best minimal value for power law fit\n"
     ]
    },
    {
     "name": "stdout",
     "output_type": "stream",
     "text": [
      "1938401\n"
     ]
    },
    {
     "name": "stderr",
     "output_type": "stream",
     "text": [
      "Calculating best minimal value for power law fit\n"
     ]
    },
    {
     "name": "stdout",
     "output_type": "stream",
     "text": [
      "1966907\n"
     ]
    },
    {
     "name": "stderr",
     "output_type": "stream",
     "text": [
      "Calculating best minimal value for power law fit\n"
     ]
    },
    {
     "name": "stdout",
     "output_type": "stream",
     "text": [
      "1995413\n"
     ]
    },
    {
     "name": "stderr",
     "output_type": "stream",
     "text": [
      "Calculating best minimal value for power law fit\n"
     ]
    },
    {
     "name": "stdout",
     "output_type": "stream",
     "text": [
      "2023918\n",
      "2052424\n"
     ]
    },
    {
     "name": "stderr",
     "output_type": "stream",
     "text": [
      "Calculating best minimal value for power law fit\n",
      "Calculating best minimal value for power law fit\n"
     ]
    },
    {
     "name": "stdout",
     "output_type": "stream",
     "text": [
      "2080930\n"
     ]
    },
    {
     "name": "stderr",
     "output_type": "stream",
     "text": [
      "Calculating best minimal value for power law fit\n"
     ]
    },
    {
     "name": "stdout",
     "output_type": "stream",
     "text": [
      "2109436\n"
     ]
    },
    {
     "name": "stderr",
     "output_type": "stream",
     "text": [
      "Calculating best minimal value for power law fit\n"
     ]
    },
    {
     "name": "stdout",
     "output_type": "stream",
     "text": [
      "2137942\n"
     ]
    },
    {
     "name": "stderr",
     "output_type": "stream",
     "text": [
      "Calculating best minimal value for power law fit\n"
     ]
    },
    {
     "name": "stdout",
     "output_type": "stream",
     "text": [
      "2166448\n"
     ]
    },
    {
     "name": "stderr",
     "output_type": "stream",
     "text": [
      "Calculating best minimal value for power law fit\n"
     ]
    },
    {
     "name": "stdout",
     "output_type": "stream",
     "text": [
      "2194954\n"
     ]
    },
    {
     "name": "stderr",
     "output_type": "stream",
     "text": [
      "Calculating best minimal value for power law fit\n"
     ]
    },
    {
     "name": "stdout",
     "output_type": "stream",
     "text": [
      "2223460\n"
     ]
    },
    {
     "name": "stderr",
     "output_type": "stream",
     "text": [
      "Calculating best minimal value for power law fit\n"
     ]
    },
    {
     "name": "stdout",
     "output_type": "stream",
     "text": [
      "2251966\n"
     ]
    },
    {
     "name": "stderr",
     "output_type": "stream",
     "text": [
      "Calculating best minimal value for power law fit\n"
     ]
    },
    {
     "name": "stdout",
     "output_type": "stream",
     "text": [
      "2280472\n"
     ]
    },
    {
     "name": "stderr",
     "output_type": "stream",
     "text": [
      "Calculating best minimal value for power law fit\n"
     ]
    },
    {
     "name": "stdout",
     "output_type": "stream",
     "text": [
      "2308977\n"
     ]
    },
    {
     "name": "stderr",
     "output_type": "stream",
     "text": [
      "Calculating best minimal value for power law fit\n"
     ]
    },
    {
     "name": "stdout",
     "output_type": "stream",
     "text": [
      "2337483\n"
     ]
    },
    {
     "name": "stderr",
     "output_type": "stream",
     "text": [
      "Calculating best minimal value for power law fit\n"
     ]
    },
    {
     "name": "stdout",
     "output_type": "stream",
     "text": [
      "2365989\n"
     ]
    },
    {
     "name": "stderr",
     "output_type": "stream",
     "text": [
      "Calculating best minimal value for power law fit\n"
     ]
    },
    {
     "name": "stdout",
     "output_type": "stream",
     "text": [
      "2394495\n"
     ]
    },
    {
     "name": "stderr",
     "output_type": "stream",
     "text": [
      "Calculating best minimal value for power law fit\n"
     ]
    },
    {
     "name": "stdout",
     "output_type": "stream",
     "text": [
      "2423001\n"
     ]
    },
    {
     "name": "stderr",
     "output_type": "stream",
     "text": [
      "Calculating best minimal value for power law fit\n"
     ]
    },
    {
     "name": "stdout",
     "output_type": "stream",
     "text": [
      "2451507\n"
     ]
    },
    {
     "name": "stderr",
     "output_type": "stream",
     "text": [
      "Calculating best minimal value for power law fit\n"
     ]
    },
    {
     "name": "stdout",
     "output_type": "stream",
     "text": [
      "2480013\n"
     ]
    },
    {
     "name": "stderr",
     "output_type": "stream",
     "text": [
      "Calculating best minimal value for power law fit\n"
     ]
    },
    {
     "name": "stdout",
     "output_type": "stream",
     "text": [
      "2508519\n"
     ]
    },
    {
     "name": "stderr",
     "output_type": "stream",
     "text": [
      "Calculating best minimal value for power law fit\n"
     ]
    },
    {
     "name": "stdout",
     "output_type": "stream",
     "text": [
      "2537025\n"
     ]
    },
    {
     "name": "stderr",
     "output_type": "stream",
     "text": [
      "Calculating best minimal value for power law fit\n"
     ]
    },
    {
     "name": "stdout",
     "output_type": "stream",
     "text": [
      "2565531\n"
     ]
    },
    {
     "name": "stderr",
     "output_type": "stream",
     "text": [
      "Calculating best minimal value for power law fit\n"
     ]
    },
    {
     "name": "stdout",
     "output_type": "stream",
     "text": [
      "2594036\n"
     ]
    },
    {
     "name": "stderr",
     "output_type": "stream",
     "text": [
      "Calculating best minimal value for power law fit\n"
     ]
    },
    {
     "name": "stdout",
     "output_type": "stream",
     "text": [
      "2622542\n"
     ]
    },
    {
     "name": "stderr",
     "output_type": "stream",
     "text": [
      "Calculating best minimal value for power law fit\n"
     ]
    },
    {
     "name": "stdout",
     "output_type": "stream",
     "text": [
      "2651048\n"
     ]
    },
    {
     "name": "stderr",
     "output_type": "stream",
     "text": [
      "Calculating best minimal value for power law fit\n"
     ]
    },
    {
     "name": "stdout",
     "output_type": "stream",
     "text": [
      "2679554\n"
     ]
    },
    {
     "name": "stderr",
     "output_type": "stream",
     "text": [
      "Calculating best minimal value for power law fit\n"
     ]
    },
    {
     "name": "stdout",
     "output_type": "stream",
     "text": [
      "2708060\n"
     ]
    },
    {
     "name": "stderr",
     "output_type": "stream",
     "text": [
      "Calculating best minimal value for power law fit\n"
     ]
    },
    {
     "name": "stdout",
     "output_type": "stream",
     "text": [
      "2736566\n"
     ]
    },
    {
     "name": "stderr",
     "output_type": "stream",
     "text": [
      "Calculating best minimal value for power law fit\n"
     ]
    },
    {
     "name": "stdout",
     "output_type": "stream",
     "text": [
      "2765072\n"
     ]
    },
    {
     "name": "stderr",
     "output_type": "stream",
     "text": [
      "Calculating best minimal value for power law fit\n"
     ]
    },
    {
     "name": "stdout",
     "output_type": "stream",
     "text": [
      "2793578\n"
     ]
    },
    {
     "name": "stderr",
     "output_type": "stream",
     "text": [
      "Calculating best minimal value for power law fit\n"
     ]
    },
    {
     "name": "stdout",
     "output_type": "stream",
     "text": [
      "2822084\n"
     ]
    },
    {
     "name": "stderr",
     "output_type": "stream",
     "text": [
      "Calculating best minimal value for power law fit\n"
     ]
    },
    {
     "name": "stdout",
     "output_type": "stream",
     "text": [
      "2850590\n"
     ]
    },
    {
     "name": "stderr",
     "output_type": "stream",
     "text": [
      "Calculating best minimal value for power law fit\n"
     ]
    },
    {
     "data": {
      "image/png": "[encoded data removed]",
      "text/plain": [
       "<Figure size 1080x1080 with 2 Axes>"
      ]
     },
     "metadata": {
      "needs_background": "light"
     },
     "output_type": "display_data"
    }
   ],
   "source": [
    "alphaList=[]\n",
    "sigmaList=[]\n",
    "\n",
    "fig, (ax1, ax2) = plt.subplots(2, 1,figsize=(15,15))\n",
    "fig.suptitle('Horizontally stacked subplots')\n",
    "\n",
    "for frac in z:\n",
    "    rowNum=int(frac*numRows)\n",
    "    print(rowNum)\n",
    "    #rankedRoles=roles1['normalisedLongestMatch'][0:rowNum].value_counts()  \n",
    "    rankedRoles=roles1['coreTitle'][0:rowNum].value_counts()  \n",
    "    dfRankedRoles=pd.DataFrame({'rank':range(0,rankedRoles.shape[0]),'count':rankedRoles.values})\n",
    "    x=dfRankedRoles['rank']\n",
    "    y=dfRankedRoles['count']\n",
    "    yLog=np.log(dfRankedRoles['count'])\n",
    "    #dfRankedRoles.plot('rank','count',kind='line')\n",
    "    #ax1.plot(x, y)\n",
    "  #  plt.plot(x,y)\n",
    "    fit=powerlaw.Fit(y)\n",
    "    fig2=fit.plot_pdf(color='b', linewidth=2)\n",
    "    fit.power_law.plot_pdf(color='b',linestyle='--',ax=fig2)\n",
    "    fit.plot_ccdf(color='r', linewidth=2, ax=fig2)\n",
    "    fit.power_law.plot_ccdf(color='r', linestyle='--', ax=fig2)\n",
    "    alphaList.append(fit.alpha)\n",
    "    sigmaList.append(fit.sigma)"
   ]
  },
  {
   "cell_type": "code",
   "execution_count": 452,
   "metadata": {},
   "outputs": [
    {
     "data": {
      "text/plain": [
       "[<matplotlib.lines.Line2D at 0x1309eac50>]"
      ]
     },
     "execution_count": 452,
     "metadata": {},
     "output_type": "execute_result"
    },
    {
     "data": {
      "image/png": "[encoded data removed]",
      "text/plain": [
       "<Figure size 432x288 with 1 Axes>"
      ]
     },
     "metadata": {
      "needs_background": "light"
     },
     "output_type": "display_data"
    }
   ],
   "source": [
    "plt.plot(alphaList)"
   ]
  },
  {
   "cell_type": "code",
   "execution_count": 429,
   "metadata": {},
   "outputs": [
    {
     "data": {
      "text/plain": [
       "<matplotlib.axes._subplots.AxesSubplot at 0x1535ed9d0>"
      ]
     },
     "execution_count": 429,
     "metadata": {},
     "output_type": "execute_result"
    },
    {
     "data": {
      "image/png": "[encoded data removed]",
      "text/plain": [
       "<Figure size 432x288 with 1 Axes>"
      ]
     },
     "metadata": {
      "needs_background": "light"
     },
     "output_type": "display_data"
    }
   ],
   "source": [
    "powerlaw.plot_pdf(y, linear_bins=True)"
   ]
  },
  {
   "cell_type": "code",
   "execution_count": 401,
   "metadata": {},
   "outputs": [
    {
     "data": {
      "text/plain": [
       "<matplotlib.axes._subplots.AxesSubplot at 0x1319ee590>"
      ]
     },
     "execution_count": 401,
     "metadata": {},
     "output_type": "execute_result"
    },
    {
     "data": {
      "image/png": "[encoded data removed]",
      "text/plain": [
       "<Figure size 432x288 with 1 Axes>"
      ]
     },
     "metadata": {
      "needs_background": "light"
     },
     "output_type": "display_data"
    }
   ],
   "source": [
    "fig2 = fit.plot_pdf(color='b', linewidth=2)\n",
    "fit.power_law.plot_pdf(color='b',linestyle='--',ax=fig2)\n",
    "fit.plot_ccdf(color='r', linewidth=2, ax=fig2)\n",
    "fit.power_law.plot_ccdf(color='r', linestyle='--', ax=fig2)"
   ]
  },
  {
   "cell_type": "code",
   "execution_count": 344,
   "metadata": {},
   "outputs": [],
   "source": [
    "#now do the same as above but with 50 samples of size x, randomly drawn from the full dataset\n",
    "\n",
    "sampleSize = 20000\n",
    "Start = 0\n",
    "Stop = numRows -1 \n",
    "limit = sampleSize\n",
    "\n",
    "# List of random integers chosen from a range\n",
    "randomSample = random.sample(range(Start, Stop), limit)"
   ]
  },
  {
   "cell_type": "code",
   "execution_count": 352,
   "metadata": {},
   "outputs": [
    {
     "name": "stderr",
     "output_type": "stream",
     "text": [
      "Calculating best minimal value for power law fit\n",
      "Calculating best minimal value for power law fit\n",
      "Calculating best minimal value for power law fit\n",
      "Calculating best minimal value for power law fit\n",
      "Calculating best minimal value for power law fit\n",
      "Calculating best minimal value for power law fit\n",
      "Calculating best minimal value for power law fit\n",
      "Calculating best minimal value for power law fit\n",
      "Calculating best minimal value for power law fit\n",
      "Calculating best minimal value for power law fit\n",
      "Calculating best minimal value for power law fit\n",
      "Calculating best minimal value for power law fit\n",
      "Calculating best minimal value for power law fit\n",
      "Calculating best minimal value for power law fit\n",
      "Calculating best minimal value for power law fit\n",
      "Calculating best minimal value for power law fit\n",
      "Calculating best minimal value for power law fit\n",
      "Calculating best minimal value for power law fit\n",
      "Calculating best minimal value for power law fit\n",
      "Calculating best minimal value for power law fit\n",
      "Calculating best minimal value for power law fit\n",
      "Calculating best minimal value for power law fit\n",
      "Calculating best minimal value for power law fit\n",
      "Calculating best minimal value for power law fit\n",
      "Calculating best minimal value for power law fit\n",
      "Calculating best minimal value for power law fit\n",
      "Calculating best minimal value for power law fit\n",
      "Calculating best minimal value for power law fit\n",
      "Calculating best minimal value for power law fit\n",
      "Calculating best minimal value for power law fit\n",
      "Calculating best minimal value for power law fit\n",
      "Calculating best minimal value for power law fit\n",
      "Calculating best minimal value for power law fit\n",
      "Calculating best minimal value for power law fit\n",
      "Calculating best minimal value for power law fit\n",
      "Calculating best minimal value for power law fit\n",
      "Calculating best minimal value for power law fit\n",
      "Calculating best minimal value for power law fit\n",
      "Calculating best minimal value for power law fit\n"
     ]
    },
    {
     "data": {
      "image/png": "[encoded data removed]",
      "text/plain": [
       "<Figure size 432x288 with 1 Axes>"
      ]
     },
     "metadata": {
      "needs_background": "light"
     },
     "output_type": "display_data"
    }
   ],
   "source": [
    "alphaList=[]\n",
    "sigmaList=[]\n",
    "numSamples = 40\n",
    "\n",
    "for frac in range(1,numSamples):\n",
    "    randomSample = random.sample(range(Start, Stop), limit)\n",
    "    #rankedRoles=roles1['normalisedLongestMatch'][randomSample].value_counts()\n",
    "    rankedRoles=roles1['coreTitle'][randomSample].value_counts() \n",
    "    dfRankedRoles=pd.DataFrame({'rank':range(0,rankedRoles.shape[0]),'count':rankedRoles.values})\n",
    "    x=dfRankedRoles['rank']\n",
    "    y=dfRankedRoles['count']\n",
    "    yLog=np.log(dfRankedRoles['count'])\n",
    "    #dfRankedRoles.plot('rank','count',kind='line')\n",
    "    plt.plot(x,y)\n",
    "    fit=powerlaw.Fit(y)\n",
    "    alphaList.append(fit.alpha)\n",
    "    sigmaList.append(fit.sigma)"
   ]
  },
  {
   "cell_type": "code",
   "execution_count": 353,
   "metadata": {},
   "outputs": [
    {
     "data": {
      "text/plain": [
       "[<matplotlib.lines.Line2D at 0x140142090>]"
      ]
     },
     "execution_count": 353,
     "metadata": {},
     "output_type": "execute_result"
    },
    {
     "data": {
      "image/png": "[encoded data removed]",
      "text/plain": [
       "<Figure size 432x288 with 1 Axes>"
      ]
     },
     "metadata": {
      "needs_background": "light"
     },
     "output_type": "display_data"
    }
   ],
   "source": [
    "plt.plot(alphaList)"
   ]
  },
  {
   "cell_type": "code",
   "execution_count": 354,
   "metadata": {},
   "outputs": [
    {
     "data": {
      "text/plain": [
       "<bound method NDFrame.tail of 0       347\n",
       "1       272\n",
       "2       271\n",
       "3       263\n",
       "4       243\n",
       "       ... \n",
       "2852      1\n",
       "2853      1\n",
       "2854      1\n",
       "2855      1\n",
       "2856      1\n",
       "Name: count, Length: 2857, dtype: int64>"
      ]
     },
     "execution_count": 354,
     "metadata": {},
     "output_type": "execute_result"
    }
   ],
   "source": [
    "y.tail"
   ]
  },
  {
   "cell_type": "code",
   "execution_count": 355,
   "metadata": {},
   "outputs": [],
   "source": [
    "ySingle=y[y==1]"
   ]
  },
  {
   "cell_type": "code",
   "execution_count": 295,
   "metadata": {},
   "outputs": [
    {
     "data": {
      "text/plain": [
       "Int64Index([14915, 14916, 14917, 14918, 14919, 14920, 14921, 14922, 14923,\n",
       "            14924,\n",
       "            ...\n",
       "            17088, 17089, 17090, 17091, 17092, 17093, 17094, 17095, 17096,\n",
       "            17097],\n",
       "           dtype='int64', length=2183)"
      ]
     },
     "execution_count": 295,
     "metadata": {},
     "output_type": "execute_result"
    }
   ],
   "source": [
    "ySingle.index"
   ]
  },
  {
   "cell_type": "code",
   "execution_count": 296,
   "metadata": {},
   "outputs": [
    {
     "data": {
      "text/plain": [
       "Index(['Administration Officer', 'Project Manager', 'Registered Nurse',\n",
       "       'Customer Service Representative', 'Store Manager', 'Cook',\n",
       "       'Business Development Manager', 'Business Analyst', 'Manager',\n",
       "       'Occupational Therapist',\n",
       "       ...\n",
       "       'Attendance Adviser', 'Zookeeper', 'Physiotherapist Team Leader',\n",
       "       'Community Fundraising Executive', 'End, User Support Analyst',\n",
       "       'Approved Manager', 'Distribution Engineer', 'Education Worker',\n",
       "       'Succession Planning Lawyer', 'Head of Experience'],\n",
       "      dtype='object', length=16105)"
      ]
     },
     "execution_count": 296,
     "metadata": {},
     "output_type": "execute_result"
    }
   ],
   "source": [
    "rankedRoles.index"
   ]
  },
  {
   "cell_type": "code",
   "execution_count": 297,
   "metadata": {},
   "outputs": [],
   "source": [
    "idx1 = pd.Index([1, 2, 3, 4])\n",
    "idx2 = pd.Index([3, 4, 5])"
   ]
  },
  {
   "cell_type": "code",
   "execution_count": 298,
   "metadata": {},
   "outputs": [],
   "source": [
    "over=idx1.intersection(idx2)"
   ]
  },
  {
   "cell_type": "code",
   "execution_count": 299,
   "metadata": {},
   "outputs": [
    {
     "data": {
      "text/plain": [
       "2"
      ]
     },
     "execution_count": 299,
     "metadata": {},
     "output_type": "execute_result"
    }
   ],
   "source": [
    "len(over)"
   ]
  },
  {
   "cell_type": "code",
   "execution_count": 383,
   "metadata": {},
   "outputs": [],
   "source": [
    "##### now do the same as above but with 50 samples of size x, randomly drawn from the full dataset\n",
    "numSamples=2000\n",
    "z = [decimal.Decimal(i) / decimal.Decimal(numSamples) for i in range(1, numSamples + 1)]"
   ]
  },
  {
   "cell_type": "code",
   "execution_count": 390,
   "metadata": {},
   "outputs": [
    {
     "name": "stdout",
     "output_type": "stream",
     "text": [
      "2850\n"
     ]
    }
   ],
   "source": [
    "# First do the sample that will be the 'capture' part of the 'capture-recapture'\n",
    "frac=z[1]\n",
    "rowNumUpper=int(frac*numRows)\n",
    "print(rowNumUpper)\n",
    "#rolesSubset1=roles1['normalisedLongestMatch'][0:rowNumUpper]\n",
    "rolesSubset1=roles1['coreTitle'][0:rowNumUpper]\n",
    "rankedRoles1=rolesSubset1.value_counts()  \n",
    "captureTitles=rankedRoles1.index[rankedRoles1.values==1]\n",
    "lengthCapture=len(captureTitles)"
   ]
  },
  {
   "cell_type": "code",
   "execution_count": 391,
   "metadata": {},
   "outputs": [],
   "source": [
    "overlap=[]\n",
    "\n",
    "for frac in z[2:]:\n",
    "    rowNumLower=rowNumUpper+1\n",
    "    rowNumUpper=int(frac*numRows)\n",
    "    #print(rowNumUpper)\n",
    "    #rolesSubset=roles1['normalisedLongestMatch'][rowNumLower:rowNumUpper]\n",
    "    rolesSubset=roles1['coreTitle'][rowNumLower:rowNumUpper]\n",
    "    rankedRoles=rolesSubset.value_counts()\n",
    "    \n",
    "    recaptureTitles=rankedRoles.index[rankedRoles.values==1]\n",
    "    capRecap=captureTitles.intersection(recaptureTitles)\n",
    "    fracCapRecap=len(capRecap)/len(recaptureTitles)\n",
    "    \n",
    "    combDf=rolesSubset1.append(rolesSubset)\n",
    "    combRankedRoles=combDf.value_counts()\n",
    "    #correctionFactor=len(combRankedRoles)/len(combRankedRoles[combRankedRoles.values==1])\n",
    "    correctionFactor=1\n",
    "    overlap.append((correctionFactor**2)*lengthCapture/fracCapRecap)\n",
    "    "
   ]
  },
  {
   "cell_type": "code",
   "execution_count": 392,
   "metadata": {},
   "outputs": [
    {
     "data": {
      "text/plain": [
       "[2233.846153846154,\n",
       " 2358.125,\n",
       " 2700.6896551724135,\n",
       " 2560.0,\n",
       " 2319.4285714285716,\n",
       " 3206.923076923077,\n",
       " 2348.823529411765,\n",
       " 2040.5797101449275,\n",
       " 2511.0344827586205,\n",
       " 2453.846153846154,\n",
       " 2955.4716981132074,\n",
       " 2742.6666666666665,\n",
       " 2800.0,\n",
       " 2864.150943396226,\n",
       " 2392.876712328767,\n",
       " 3046.1538461538466,\n",
       " 3025.0,\n",
       " 3163.018867924528,\n",
       " 2851.2000000000003,\n",
       " 2493.333333333333,\n",
       " 2232.8358208955224,\n",
       " 3214.6938775510207,\n",
       " 3110.0,\n",
       " 2772.0,\n",
       " 2389.655172413793,\n",
       " 2370.7462686567164,\n",
       " 2976.470588235294,\n",
       " 2714.7169811320755,\n",
       " 2258.235294117647,\n",
       " 2701.754385964912,\n",
       " 3510.0,\n",
       " 3003.846153846154,\n",
       " 3097.2549019607845,\n",
       " 2838.4313725490197,\n",
       " 2090.0,\n",
       " 2573.5849056603774,\n",
       " 2758.4615384615386,\n",
       " 3313.469387755102,\n",
       " 2843.076923076923,\n",
       " 2512.2580645161293,\n",
       " 2824.0,\n",
       " 2391.6129032258063,\n",
       " 2663.157894736842,\n",
       " 2753.793103448276,\n",
       " 2403.582089552239,\n",
       " 2348.823529411765,\n",
       " 2824.0,\n",
       " 2552.0,\n",
       " 2592.8571428571427,\n",
       " 2974.4,\n",
       " 2960.0,\n",
       " 3063.0769230769233,\n",
       " 2824.0,\n",
       " 3044.0816326530608,\n",
       " 2378.75,\n",
       " 2712.0,\n",
       " 2582.2950819672133,\n",
       " 3055.0943396226417,\n",
       " 3177.777777777778,\n",
       " 2423.4920634920636,\n",
       " 2441.2903225806454,\n",
       " 2770.3703703703704,\n",
       " 2536.470588235294,\n",
       " 2698.6666666666665,\n",
       " 2586.896551724138,\n",
       " 2466.8852459016393,\n",
       " 2301.538461538462,\n",
       " 2912.0,\n",
       " 3490.0,\n",
       " 2926.9565217391305,\n",
       " 3098.723404255319,\n",
       " 2271.1764705882356,\n",
       " 2927.6923076923076,\n",
       " 2582.608695652174,\n",
       " 2948.0000000000005,\n",
       " 2172.5,\n",
       " 2508.0,\n",
       " 3254.166666666667,\n",
       " 2483.8709677419356,\n",
       " 2462.4561403508774,\n",
       " 2822.6415094339623,\n",
       " 2924.705882352941,\n",
       " 2241.25,\n",
       " 2293.333333333333,\n",
       " 2946.428571428571,\n",
       " 3820.487804878049,\n",
       " 2640.0,\n",
       " 2829.8039215686276,\n",
       " 2833.6000000000004,\n",
       " 2956.8,\n",
       " 2905.8333333333335,\n",
       " 2955.4716981132074,\n",
       " 3417.6744186046517,\n",
       " 3146.9565217391305,\n",
       " 2697.037037037037,\n",
       " 2786.666666666667,\n",
       " 2488.0,\n",
       " 2623.7037037037035,\n",
       " 3036.0,\n",
       " 3708.5714285714284,\n",
       " 2440.0,\n",
       " 3190.0,\n",
       " 2396.3076923076924,\n",
       " 3735.1111111111113,\n",
       " 2917.391304347826,\n",
       " 2978.461538461538,\n",
       " 3230.0,\n",
       " 2328.6153846153848,\n",
       " 3130.7692307692305,\n",
       " 2592.8571428571427,\n",
       " 2084.2105263157896,\n",
       " 2789.433962264151,\n",
       " 2822.6415094339623,\n",
       " 2839.245283018868,\n",
       " 3285.9574468085107,\n",
       " 2935.862068965517,\n",
       " 2917.037037037037,\n",
       " 3009.6000000000004,\n",
       " 2995.7446808510635,\n",
       " 2792.0,\n",
       " 3264.8,\n",
       " 3285.3333333333335,\n",
       " 3223.2558139534885,\n",
       " 2324.8648648648646,\n",
       " 2930.2127659574467,\n",
       " 2916.078431372549,\n",
       " 3499.9999999999995,\n",
       " 2495.7377049180327,\n",
       " 3145.531914893617,\n",
       " 2377.313432835821,\n",
       " 3126.808510638298,\n",
       " 3230.0,\n",
       " 2776.8888888888887,\n",
       " 2568.0,\n",
       " 3053.6,\n",
       " 3030.1886792452833,\n",
       " 2523.125,\n",
       " 2556.551724137931,\n",
       " 2263.768115942029,\n",
       " 2781.428571428571,\n",
       " 2786.666666666667,\n",
       " 3226.666666666667,\n",
       " 3344.0,\n",
       " 2884.4444444444443,\n",
       " 2885.3846153846152,\n",
       " 2750.0,\n",
       " 3352.3809523809523,\n",
       " 2739.3548387096776,\n",
       " 2946.0869565217395,\n",
       " 2519.3548387096776,\n",
       " 2552.0,\n",
       " 2393.3333333333335,\n",
       " 3305.116279069767,\n",
       " 2547.3684210526317,\n",
       " 2822.6415094339623,\n",
       " 3135.0,\n",
       " 2706.4150943396226,\n",
       " 2816.0,\n",
       " 2889.056603773585,\n",
       " 3926.153846153846,\n",
       " 3122.9268292682927,\n",
       " 2820.0,\n",
       " 3390.0,\n",
       " 3117.446808510638,\n",
       " 2974.4,\n",
       " 2364.0677966101694,\n",
       " 2702.8571428571427,\n",
       " 3080.0,\n",
       " 2760.0000000000005,\n",
       " 2885.5813953488373,\n",
       " 2750.0,\n",
       " 3480.8888888888887,\n",
       " 2510.1639344262294,\n",
       " 2740.3508771929824,\n",
       " 3271.304347826087,\n",
       " 2896.0,\n",
       " 3050.0,\n",
       " 3153.3333333333335,\n",
       " 2588.6666666666665,\n",
       " 2481.311475409836,\n",
       " 2619.047619047619,\n",
       " 3386.9767441860463,\n",
       " 2663.5714285714284,\n",
       " 2462.5806451612902,\n",
       " 2488.2758620689656,\n",
       " 2820.714285714286,\n",
       " 2369.230769230769,\n",
       " 2806.8965517241377,\n",
       " 2459.6721311475408,\n",
       " 2714.5762711864404,\n",
       " 3641.0,\n",
       " 2465.3968253968255,\n",
       " 2566.6666666666665,\n",
       " 2765.714285714286,\n",
       " 2631.6981132075475,\n",
       " 2674.5098039215686,\n",
       " 2945.3061224489797,\n",
       " 3500.4444444444443,\n",
       " 2808.0,\n",
       " 2320.645161290323,\n",
       " 3256.0,\n",
       " 2329.4117647058824,\n",
       " 2844.6511627906975,\n",
       " 2605.079365079365,\n",
       " 2469.2537313432836,\n",
       " 2565.423728813559,\n",
       " 2099.4285714285716,\n",
       " 3019.607843137255,\n",
       " 2540.377358490566,\n",
       " 2744.406779661017,\n",
       " 2710.714285714286,\n",
       " 2580.0,\n",
       " 2928.0,\n",
       " 2591.875,\n",
       " 2656.603773584906,\n",
       " 3520.0,\n",
       " 2535.238095238095,\n",
       " 2513.220338983051,\n",
       " 2616.428571428571,\n",
       " 2640.0,\n",
       " 2306.451612903226,\n",
       " 3060.0000000000005,\n",
       " 2873.4693877551017,\n",
       " 2331.3432835820895,\n",
       " 3088.9795918367345,\n",
       " 2409.1803278688526,\n",
       " 3251.7073170731705,\n",
       " 2233.846153846154,\n",
       " 3426.382978723404,\n",
       " 2571.7241379310344,\n",
       " 2469.6774193548385,\n",
       " 2747.555555555555,\n",
       " 2720.0,\n",
       " 3151.6279069767443,\n",
       " 2814.3396226415093,\n",
       " 3949.0,\n",
       " 3220.7999999999997,\n",
       " 2238.2608695652175,\n",
       " 3290.0,\n",
       " 2819.259259259259,\n",
       " 2310.0,\n",
       " 2592.0,\n",
       " 3147.692307692308,\n",
       " 2647.857142857143,\n",
       " 2437.4603174603176,\n",
       " 3610.25641025641,\n",
       " 2530.0,\n",
       " 3352.3809523809523,\n",
       " 2873.4693877551017,\n",
       " 2733.076923076923,\n",
       " 3138.666666666667,\n",
       " 2507.1698113207544,\n",
       " 3392.888888888889,\n",
       " 2167.1641791044776,\n",
       " 3115.918367346939,\n",
       " 3248.5106382978724,\n",
       " 2856.0,\n",
       " 3635.2380952380954,\n",
       " 2781.428571428571,\n",
       " 2915.9322033898306,\n",
       " 2941.9607843137255,\n",
       " 2820.0,\n",
       " 2473.9622641509436,\n",
       " 2656.0,\n",
       " 2553.7254901960787,\n",
       " 2846.530612244898,\n",
       " 2799.1489361702124,\n",
       " 2581.8867924528304,\n",
       " 2346.6666666666665,\n",
       " 2952.8888888888887,\n",
       " 2469.3877551020405,\n",
       " 3187.3170731707314,\n",
       " 2630.833333333333,\n",
       " 2346.6666666666665,\n",
       " 2845.9574468085107,\n",
       " 2933.3333333333335,\n",
       " 2834.6153846153848,\n",
       " 2672.0,\n",
       " 2482.2641509433965,\n",
       " 2624.8275862068967,\n",
       " 3088.6274509803925,\n",
       " 2820.714285714286,\n",
       " 3263.3333333333335,\n",
       " 3220.0,\n",
       " 2778.0392156862745,\n",
       " 2776.8888888888887,\n",
       " 3148.444444444445,\n",
       " 2950.588235294118,\n",
       " 2683.1372549019607,\n",
       " 2224.905660377359,\n",
       " 2689.8113207547167,\n",
       " 2572.8813559322034,\n",
       " 3595.121951219512,\n",
       " 2992.0,\n",
       " 3173.6170212765956,\n",
       " 2602.7118644067796,\n",
       " 3016.0,\n",
       " 2602.0689655172414,\n",
       " 2427.5862068965516,\n",
       " 2713.333333333333,\n",
       " 3088.7999999999997,\n",
       " 3104.9056603773583,\n",
       " 2547.3684210526317,\n",
       " 3261.1764705882356,\n",
       " 2682.3076923076924,\n",
       " 2706.0,\n",
       " 2420.0,\n",
       " 4257.64705882353,\n",
       " 2671.4285714285716,\n",
       " 2340.0,\n",
       " 3549.333333333333,\n",
       " 3356.279069767442,\n",
       " 2640.0,\n",
       " 3061.666666666667,\n",
       " 2612.063492063492,\n",
       " 2718.5714285714284,\n",
       " 2920.0,\n",
       " 3252.1739130434785,\n",
       " 2992.0,\n",
       " 2852.142857142857,\n",
       " 2778.947368421053,\n",
       " 2465.3968253968255,\n",
       " 2640.0,\n",
       " 3392.888888888889,\n",
       " 3169.795918367347,\n",
       " 2370.3225806451615,\n",
       " 2524.590163934426,\n",
       " 2625.3333333333335,\n",
       " 3300.0,\n",
       " 2808.0,\n",
       " 3204.3478260869565,\n",
       " 2800.0,\n",
       " 2602.0689655172414,\n",
       " 2913.9622641509436,\n",
       " 3168.0,\n",
       " 2521.5384615384614,\n",
       " 2835.5555555555557,\n",
       " 2476.774193548387,\n",
       " 2286.6666666666665,\n",
       " 2764.5283018867926,\n",
       " 3353.7777777777783,\n",
       " 2539.0163934426228,\n",
       " 2673.846153846154,\n",
       " 2530.0,\n",
       " 2070.9333333333334,\n",
       " 3300.0,\n",
       " 3272.5,\n",
       " 3123.1372549019607,\n",
       " 2802.962962962963,\n",
       " 3080.0,\n",
       " 2839.245283018868,\n",
       " 2377.313432835821,\n",
       " 2819.259259259259,\n",
       " 2678.59649122807,\n",
       " 2965.6000000000004,\n",
       " 3366.9565217391305,\n",
       " 2656.0,\n",
       " 2464.0,\n",
       " 2344.375,\n",
       " 3070.833333333333,\n",
       " 2974.074074074074,\n",
       " 2971.9298245614036,\n",
       " 3080.0,\n",
       " 2604.516129032258,\n",
       " 2766.923076923077,\n",
       " 2581.3333333333335,\n",
       " 2200.0,\n",
       " 2524.210526315789,\n",
       " 2999.183673469388,\n",
       " 2498.064516129032,\n",
       " 2802.962962962963,\n",
       " 2834.6153846153848,\n",
       " 2531.8032786885246,\n",
       " 2632.7868852459014,\n",
       " 2892.5925925925926,\n",
       " 2800.0,\n",
       " 3412.682926829268,\n",
       " 2893.0,\n",
       " 2236.6666666666665,\n",
       " 2697.037037037037,\n",
       " 2729.375,\n",
       " 2724.9122807017548,\n",
       " 2748.0701754385964,\n",
       " 2967.8431372549016,\n",
       " 2655.438596491228,\n",
       " 3171.666666666667,\n",
       " 2855.5102040816328,\n",
       " 2722.0338983050847,\n",
       " 2543.75,\n",
       " 2552.0,\n",
       " 2539.6491228070176,\n",
       " 3115.918367346939,\n",
       " 3071.0204081632655,\n",
       " 2616.428571428571,\n",
       " 2393.898305084746,\n",
       " 2410.7042253521126,\n",
       " 2640.0,\n",
       " 2624.2857142857147,\n",
       " 2817.6923076923076,\n",
       " 2377.4193548387098,\n",
       " 3520.0,\n",
       " 2941.9607843137255,\n",
       " 2555.0877192982457,\n",
       " 3208.333333333333,\n",
       " 3435.7446808510635,\n",
       " 2912.8,\n",
       " 2495.5223880597014,\n",
       " 2554.8387096774195,\n",
       " 2794.814814814815,\n",
       " 3520.0,\n",
       " 2511.3846153846152,\n",
       " 2495.862068965517,\n",
       " 2654.9152542372885,\n",
       " 3286.530612244898,\n",
       " 2570.5263157894738,\n",
       " 2444.4444444444443,\n",
       " 2686.8085106382982,\n",
       " 3246.4864864864867,\n",
       " 2726.274509803922,\n",
       " 3509.7674418604647,\n",
       " 2856.1403508771928,\n",
       " 2771.228070175439,\n",
       " 2503.448275862069,\n",
       " 2489.1428571428573,\n",
       " 2800.769230769231,\n",
       " 2702.8571428571427,\n",
       " 2465.6603773584907,\n",
       " 3270.0000000000005,\n",
       " 3362.857142857143,\n",
       " 2722.0338983050847,\n",
       " 2376.0,\n",
       " 2530.0,\n",
       " 2589.508196721312,\n",
       " 3046.7924528301887,\n",
       " 3185.217391304348,\n",
       " 3520.0,\n",
       " 2797.735849056604,\n",
       " 3187.755102040816,\n",
       " 2939.2000000000003,\n",
       " 2884.4444444444443,\n",
       " 2693.103448275862,\n",
       " 2281.230769230769,\n",
       " 2496.0,\n",
       " 2631.372549019608,\n",
       " 2653.75,\n",
       " 2761.379310344828,\n",
       " 2984.0000000000005,\n",
       " 2594.4827586206898,\n",
       " 3223.2558139534885,\n",
       " 3109.3333333333335,\n",
       " 2560.8,\n",
       " 2930.2127659574467,\n",
       " 2436.923076923077,\n",
       " 2596.7213114754095,\n",
       " 3149.0196078431372,\n",
       " 3313.469387755102,\n",
       " 2550.5084745762715,\n",
       " 3635.2380952380954,\n",
       " 2624.8275862068967,\n",
       " 2245.9701492537315,\n",
       " 2954.285714285714,\n",
       " 3169.795918367347,\n",
       " 2412.6666666666665,\n",
       " 2775.3846153846152,\n",
       " 2769.4117647058824,\n",
       " 2752.0,\n",
       " 2750.0,\n",
       " 2952.0,\n",
       " 2981.224489795918,\n",
       " 3054.6153846153843,\n",
       " 2662.3728813559323,\n",
       " 3960.0,\n",
       " 4098.285714285714,\n",
       " 2578.3999999999996,\n",
       " 2648.1481481481483,\n",
       " 2701.754385964912,\n",
       " 2353.3333333333335,\n",
       " 2552.0,\n",
       " 2462.686567164179,\n",
       " 3108.6956521739135,\n",
       " 3221.1320754716985,\n",
       " 3000.0,\n",
       " 2341.935483870968,\n",
       " 3036.0,\n",
       " 2678.59649122807,\n",
       " 3098.333333333333,\n",
       " 2972.244897959184,\n",
       " 2607.4074074074074,\n",
       " 2572.8813559322034,\n",
       " 2570.5263157894738,\n",
       " 2192.7868852459014,\n",
       " 2774.6938775510203,\n",
       " 2799.1489361702124,\n",
       " 2626.031746031746,\n",
       " 2561.935483870968,\n",
       " 2480.0,\n",
       " 2892.5925925925926,\n",
       " 2617.6271186440677,\n",
       " 2556.551724137931,\n",
       " 2809.230769230769,\n",
       " 2420.0,\n",
       " 2955.4716981132074,\n",
       " 2604.516129032258,\n",
       " 3286.530612244898,\n",
       " 2687.1428571428573,\n",
       " 2554.8387096774195,\n",
       " 2884.4444444444443,\n",
       " 2397.2413793103447,\n",
       " 3344.0,\n",
       " 2778.947368421053,\n",
       " 3481.739130434783,\n",
       " 2829.655172413793,\n",
       " 2686.315789473684,\n",
       " 3036.0,\n",
       " 2762.222222222222,\n",
       " 2864.150943396226,\n",
       " 3173.6170212765956,\n",
       " 2474.0983606557375,\n",
       " 3235.2941176470586,\n",
       " 3203.2,\n",
       " 2609.122807017544,\n",
       " 3621.5384615384614,\n",
       " 3055.0943396226417,\n",
       " 2420.0,\n",
       " 3214.6938775510207,\n",
       " 2316.875,\n",
       " 2609.122807017544,\n",
       " 2912.0,\n",
       " 2750.0,\n",
       " 2837.5510204081634,\n",
       " 2786.666666666667,\n",
       " 3443.0,\n",
       " 2500.6666666666665,\n",
       " 2530.0,\n",
       " 2546.2295081967213,\n",
       " 2397.0149253731342,\n",
       " 2778.0392156862745,\n",
       " 3088.9795918367345,\n",
       " 2435.714285714286,\n",
       " 2912.8,\n",
       " 2294.7692307692305,\n",
       " 2706.4150943396226,\n",
       " 2361.7647058823527,\n",
       " 2789.285714285714,\n",
       " 3080.0,\n",
       " 2548.679245283019,\n",
       " 3176.7999999999997,\n",
       " 3120.0,\n",
       " 3213.9130434782605,\n",
       " 2728.0,\n",
       " 2736.0,\n",
       " 2540.6451612903224,\n",
       " 2405.3333333333335,\n",
       " 2802.962962962963,\n",
       " 2669.3333333333335,\n",
       " 2640.0,\n",
       " 2275.4285714285716,\n",
       " 2677.2881355932204,\n",
       " 2332.698412698413,\n",
       " 3275.5555555555557,\n",
       " 2869.166666666667,\n",
       " 2707.6923076923076,\n",
       " 2663.157894736842,\n",
       " 3062.4,\n",
       " 2957.777777777778,\n",
       " 2726.4285714285716,\n",
       " 2678.59649122807,\n",
       " 2412.9032258064517,\n",
       " 2617.6271186440677,\n",
       " 3022.608695652174,\n",
       " 2706.4150943396226,\n",
       " 2552.0,\n",
       " 2310.0,\n",
       " 2510.1639344262294,\n",
       " 3124.8979591836737,\n",
       " 2982.222222222222,\n",
       " 2678.59649122807,\n",
       " 3107.5,\n",
       " 2739.622641509434,\n",
       " 2618.0,\n",
       " 3220.0,\n",
       " 2365.0,\n",
       " 2963.2653061224487,\n",
       " 2843.703703703704,\n",
       " 2426.875,\n",
       " 2654.9152542372885,\n",
       " 3422.2222222222226,\n",
       " 3300.0,\n",
       " 2798.4,\n",
       " 2920.0,\n",
       " 2586.896551724138,\n",
       " 2430.4761904761904,\n",
       " 2884.4444444444443,\n",
       " 2616.842105263158,\n",
       " 2872.0,\n",
       " 2748.0701754385964,\n",
       " 2693.103448275862,\n",
       " 2800.0,\n",
       " 3610.25641025641,\n",
       " 2600.0,\n",
       " 2789.7872340425533,\n",
       " 3021.3333333333335,\n",
       " 2860.0,\n",
       " 2500.6666666666665,\n",
       " 2282.898550724638,\n",
       " 2792.0,\n",
       " 3380.0,\n",
       " 2442.0,\n",
       " 2671.4285714285716,\n",
       " 2490.4,\n",
       " 2766.923076923077,\n",
       " 2475.0,\n",
       " 2812.8571428571427,\n",
       " 2851.851851851852,\n",
       " 2603.934426229508,\n",
       " 2359.4202898550725,\n",
       " 3069.767441860465,\n",
       " 2830.943396226415,\n",
       " 3223.2558139534885,\n",
       " 2266.6666666666665,\n",
       " 3125.833333333333,\n",
       " 2440.625,\n",
       " 3223.673469387755,\n",
       " 2700.923076923077,\n",
       " 2983.2,\n",
       " 2374.6031746031745,\n",
       " 2702.8571428571427,\n",
       " 2442.0,\n",
       " 2826.153846153846,\n",
       " 2719.3442622950815,\n",
       " 2365.0,\n",
       " 2970.0,\n",
       " 2781.428571428571,\n",
       " 3171.666666666667,\n",
       " 3180.833333333333,\n",
       " 2640.0,\n",
       " 2703.8709677419356,\n",
       " 2339.6825396825398,\n",
       " 3107.5,\n",
       " 2834.6153846153848,\n",
       " 2544.0,\n",
       " 2313.3333333333335,\n",
       " 3790.0,\n",
       " 2685.5172413793107,\n",
       " 3022.608695652174,\n",
       " 2915.0,\n",
       " 2806.037735849057,\n",
       " 2452.4590163934427,\n",
       " 2792.0,\n",
       " 2962.666666666667,\n",
       " 2734.901960784314,\n",
       " 3673.4883720930234,\n",
       " 2584.126984126984,\n",
       " 2750.0,\n",
       " 2948.0000000000005,\n",
       " 2754.074074074074,\n",
       " 2714.5762711864404,\n",
       " 2766.923076923077,\n",
       " 2676.0655737704915,\n",
       " 3062.4,\n",
       " 2339.6825396825398,\n",
       " 2669.830508474576,\n",
       " 2990.2040816326535,\n",
       " 2724.9122807017548,\n",
       " 2907.142857142857,\n",
       " 2520.0,\n",
       " 2706.0,\n",
       " 2350.8571428571427,\n",
       " 3051.304347826087,\n",
       " 2231.8840579710145,\n",
       " 3310.476190476191,\n",
       " 2438.032786885246,\n",
       " 2297.0588235294117,\n",
       " 3080.0,\n",
       " 3286.530612244898,\n",
       " 3071.698113207547,\n",
       " 2774.237288135593,\n",
       " 2688.0,\n",
       " 3180.833333333333,\n",
       " 3530.0,\n",
       " 2540.0,\n",
       " 2466.478873239437,\n",
       " 2437.4603174603176,\n",
       " 2083.8888888888887,\n",
       " 2723.0188679245284,\n",
       " 2923.555555555555,\n",
       " 2648.4615384615386,\n",
       " 3053.6,\n",
       " 2921.6,\n",
       " 3144.1666666666665,\n",
       " 2193.888888888889,\n",
       " 2403.076923076923,\n",
       " 2693.103448275862,\n",
       " 2860.0,\n",
       " 3581.3953488372094,\n",
       " 2566.6666666666665,\n",
       " 2467.450980392157,\n",
       " 2936.153846153846,\n",
       " 2537.3333333333335,\n",
       " 2715.862068965517,\n",
       " 3070.434782608696,\n",
       " 3491.3043478260865,\n",
       " 2624.0,\n",
       " 3097.2549019607845,\n",
       " 2294.285714285714,\n",
       " 2832.982456140351,\n",
       " 2759.322033898305,\n",
       " 2752.156862745098,\n",
       " 2682.3076923076924,\n",
       " 2311.746031746032,\n",
       " 2942.5,\n",
       " 2420.0,\n",
       " 2904.0,\n",
       " 3071.8518518518517,\n",
       " 2974.074074074074,\n",
       " 2430.8196721311474,\n",
       " 2672.5925925925926,\n",
       " 3038.490566037736,\n",
       " 2936.0,\n",
       " 2952.0,\n",
       " 2893.846153846154,\n",
       " 2669.830508474576,\n",
       " 2965.6000000000004,\n",
       " 2448.0,\n",
       " 2508.7719298245615,\n",
       " 2394.7540983606555,\n",
       " 2344.375,\n",
       " 2526.451612903226,\n",
       " 3011.5555555555557,\n",
       " 2455.483870967742,\n",
       " 2984.0000000000005,\n",
       " 3114.509803921568,\n",
       " 3314.0425531914893,\n",
       " 2601.40350877193,\n",
       " 2731.3207547169814,\n",
       " 3538.7234042553196,\n",
       " 3345.8333333333335,\n",
       " 2802.962962962963,\n",
       " 3226.666666666667,\n",
       " 2821.176470588235,\n",
       " 3020.7692307692305,\n",
       " 2416.7164179104475,\n",
       " 3663.0,\n",
       " 3357.391304347826,\n",
       " 3270.0000000000005,\n",
       " 2872.452830188679,\n",
       " 3250.0,\n",
       " 2781.132075471698,\n",
       " 3379.2,\n",
       " 3124.8979591836737,\n",
       " 3113.8461538461543,\n",
       " 3106.938775510204,\n",
       " 3216.888888888889,\n",
       " 2709.4736842105262,\n",
       " 2950.588235294118,\n",
       " 3042.553191489362,\n",
       " 2488.5245901639346,\n",
       " 3446.666666666667,\n",
       " 2556.551724137931,\n",
       " 2952.8888888888887,\n",
       " 2745.9259259259256,\n",
       " 2606.153846153846,\n",
       " 2980.0,\n",
       " 3138.666666666667,\n",
       " 2755.789473684211,\n",
       " 2706.4150943396226,\n",
       " 3087.5862068965516,\n",
       " 3394.2857142857147,\n",
       " 3154.8936170212764,\n",
       " 2640.0,\n",
       " 2602.7118644067796,\n",
       " 2662.3728813559323,\n",
       " 2930.5660377358486,\n",
       " 2904.0,\n",
       " 2449.3333333333335,\n",
       " 3096.923076923077,\n",
       " 2851.851851851852,\n",
       " 2475.0,\n",
       " 2612.063492063492,\n",
       " 3115.918367346939,\n",
       " 2443.6923076923076,\n",
       " 2998.5185185185182,\n",
       " 2526.451612903226,\n",
       " 3055.9999999999995,\n",
       " 2828.5714285714284,\n",
       " 2828.5714285714284,\n",
       " 3369.9999999999995,\n",
       " 2867.586206896552,\n",
       " 2684.7457627118642,\n",
       " 3053.6,\n",
       " 2306.451612903226,\n",
       " 3360.8510638297876,\n",
       " 2587.7966101694915,\n",
       " 2826.153846153846,\n",
       " 2451.4285714285716,\n",
       " 2679.285714285714,\n",
       " 3017.142857142857,\n",
       " 2963.7735849056603,\n",
       " 2868.4615384615386,\n",
       " 2505.161290322581,\n",
       " 2648.6274509803925,\n",
       " 2835.5555555555557,\n",
       " 2956.8,\n",
       " 2475.9322033898306,\n",
       " 3054.1176470588234,\n",
       " 2406.6666666666665,\n",
       " 2972.075471698113,\n",
       " 2888.0,\n",
       " 3010.9803921568623,\n",
       " 3145.531914893617,\n",
       " 2378.75,\n",
       " 3064.561403508772,\n",
       " 3063.7037037037035,\n",
       " 3645.714285714286,\n",
       " 2399.375,\n",
       " 2907.450980392157,\n",
       " 3098.333333333333,\n",
       " 2986.923076923077,\n",
       " 2695.0,\n",
       " 2590.3225806451615,\n",
       " 2781.6949152542375,\n",
       " 2286.5573770491806,\n",
       " 2416.7164179104475,\n",
       " 3026.122448979592,\n",
       " 2633.125,\n",
       " 2893.846153846154,\n",
       " 3123.1372549019607,\n",
       " 2965.6000000000004,\n",
       " 2763.5087719298244,\n",
       " 3461.3333333333335,\n",
       " 3972.222222222222,\n",
       " 3108.6956521739135,\n",
       " 2805.0,\n",
       " 2778.5185185185187,\n",
       " 2777.0491803278687,\n",
       " 2746.206896551724,\n",
       " 3156.5217391304345,\n",
       " 3014.468085106383,\n",
       " 2900.7407407407404,\n",
       " 2841.6666666666665,\n",
       " 2905.8333333333335,\n",
       " 3062.7450980392155,\n",
       " 2515.3333333333335,\n",
       " 2440.625,\n",
       " 2924.705882352941,\n",
       " 2926.9565217391305,\n",
       " 3018.3999999999996,\n",
       " 3245.0,\n",
       " 2618.3606557377047,\n",
       " 2678.59649122807,\n",
       " 2888.0,\n",
       " 3220.425531914894,\n",
       " 2723.448275862069,\n",
       " 3097.6,\n",
       " 2327.7419354838707,\n",
       " 2847.0588235294117,\n",
       " 2660.4651162790697,\n",
       " 3229.4339622641514,\n",
       " 2839.245283018868,\n",
       " 3045.4901960784314,\n",
       " 2432.5714285714284,\n",
       " 3407.441860465116,\n",
       " 2811.111111111111,\n",
       " 3237.735849056604,\n",
       " 2915.0,\n",
       " 2990.2040816326535,\n",
       " 2844.285714285714,\n",
       " 2955.4716981132074,\n",
       " 3539.5555555555557,\n",
       " 2624.8275862068967,\n",
       " 2750.0,\n",
       " 2764.3478260869565,\n",
       " 2747.7551020408164,\n",
       " 3012.3076923076924,\n",
       " 2264.705882352941,\n",
       " 2546.2295081967213,\n",
       " 3043.3333333333335,\n",
       " 2789.433962264151,\n",
       " 3061.666666666667,\n",
       " 2648.4615384615386,\n",
       " 3520.0,\n",
       " 2429.8507462686566,\n",
       " 2640.0,\n",
       " 3300.0,\n",
       " 2795.2941176470586,\n",
       " 2839.245283018868,\n",
       " 2464.0,\n",
       " 2502.9508196721313,\n",
       " 2462.4561403508774,\n",
       " 3220.7999999999997,\n",
       " 2673.846153846154,\n",
       " 2487.3469387755104,\n",
       " 2846.530612244898,\n",
       " 3220.0,\n",
       " 2294.7692307692305,\n",
       " 2575.0819672131147,\n",
       " 2778.5185185185187,\n",
       " 2596.7213114754095,\n",
       " 2206.567164179104,\n",
       " 2670.877192982456,\n",
       " 2603.934426229508,\n",
       " 2616.0,\n",
       " 2580.3389830508477,\n",
       " 2420.0,\n",
       " 2689.8113207547167,\n",
       " 2855.686274509804,\n",
       " 2648.4615384615386,\n",
       " 2648.4615384615386,\n",
       " 3230.243902439024,\n",
       " 3158.222222222222,\n",
       " 2744.0,\n",
       " 2587.7966101694915,\n",
       " 3008.1632653061224,\n",
       " 2941.4814814814818,\n",
       " 4162.162162162162,\n",
       " 2936.326530612245,\n",
       " 2597.6923076923076,\n",
       " 3015.8333333333335,\n",
       " 3276.595744680851,\n",
       " 2936.326530612245,\n",
       " 2760.645161290323,\n",
       " 2735.3333333333335,\n",
       " 2585.964912280702,\n",
       " 2724.6153846153848,\n",
       " 3145.531914893617,\n",
       " 2560.0,\n",
       " 2794.814814814815,\n",
       " 2524.210526315789,\n",
       " 3156.5217391304345,\n",
       " 3080.0,\n",
       " 2613.0612244897957,\n",
       " 2713.333333333333,\n",
       " 2772.0,\n",
       " 3414.7826086956525,\n",
       " 2806.037735849057,\n",
       " 3141.6,\n",
       " 2977.021276595745,\n",
       " 2797.735849056604,\n",
       " 2806.037735849057,\n",
       " 2755.789473684211,\n",
       " 2632.4137931034484,\n",
       " 2713.333333333333,\n",
       " 2647.4576271186443,\n",
       " 2816.0,\n",
       " 2918.3673469387754,\n",
       " 3160.8163265306125,\n",
       " 3028.235294117647,\n",
       " 3142.8571428571427,\n",
       " 3235.833333333333,\n",
       " 2656.2962962962965,\n",
       " 2677.9310344827586,\n",
       " 3233.0434782608695,\n",
       " 4320.0,\n",
       " 2952.0,\n",
       " 2941.4814814814818,\n",
       " 2662.7586206896553,\n",
       " 2438.032786885246,\n",
       " 2363.4285714285716,\n",
       " 3157.6470588235297,\n",
       " 3002.3529411764707,\n",
       " 3208.7804878048782,\n",
       " 2709.0196078431372,\n",
       " 2572.8813559322034,\n",
       " 3192.340425531915,\n",
       " 3391.6666666666665,\n",
       " 2289.375,\n",
       " 3142.8571428571427,\n",
       " 2739.622641509434,\n",
       " 2481.6,\n",
       " 3332.765957446809,\n",
       " 2514.285714285714,\n",
       " 2778.5185185185187,\n",
       " 2501.0526315789475,\n",
       " 2654.9152542372885,\n",
       " 2714.5762711864404,\n",
       " 3187.755102040816,\n",
       " 2681.509433962264,\n",
       " 2542.222222222222,\n",
       " 2851.851851851852,\n",
       " 2640.0,\n",
       " 2574.0,\n",
       " 3369.9999999999995,\n",
       " 2617.6271186440677,\n",
       " 2694.035087719298,\n",
       " 2624.0,\n",
       " 2495.7377049180327,\n",
       " 2483.8709677419356,\n",
       " 2569.032258064516,\n",
       " 3520.0,\n",
       " 2225.5072463768115,\n",
       " 2976.470588235294,\n",
       " 2834.6153846153848,\n",
       " 2840.0,\n",
       " 2738.6206896551726,\n",
       " 2647.3333333333335,\n",
       " 2897.3584905660377,\n",
       " 2961.5384615384614,\n",
       " 3467.6190476190477,\n",
       " 3021.3333333333335,\n",
       " 3124.8979591836737,\n",
       " ...]"
      ]
     },
     "execution_count": 392,
     "metadata": {},
     "output_type": "execute_result"
    }
   ],
   "source": [
    "overlap"
   ]
  },
  {
   "cell_type": "code",
   "execution_count": 393,
   "metadata": {},
   "outputs": [
    {
     "data": {
      "text/plain": [
       "(array([  7.,   4.,   9.,  18.,  43.,  60.,  59.,  91., 104., 126., 127.,\n",
       "        147., 127., 152., 106., 115., 111., 104.,  83.,  85.,  73.,  43.,\n",
       "         42.,  41.,  30.,  23.,  19.,  10.,  10.,   7.,   3.,   3.,   2.,\n",
       "          4.,   2.,   0.,   1.,   2.,   1.,   1.,   1.,   1.,   0.,   0.,\n",
       "          0.,   0.,   0.,   0.,   0.,   1.]),\n",
       " array([2040.57971014, 2097.17501249, 2153.77031484, 2210.36561719,\n",
       "        2266.96091954, 2323.55622189, 2380.15152424, 2436.74682659,\n",
       "        2493.34212894, 2549.93743128, 2606.53273363, 2663.12803598,\n",
       "        2719.72333833, 2776.31864068, 2832.91394303, 2889.50924538,\n",
       "        2946.10454773, 3002.69985007, 3059.29515242, 3115.89045477,\n",
       "        3172.48575712, 3229.08105947, 3285.67636182, 3342.27166417,\n",
       "        3398.86696652, 3455.46226887, 3512.05757121, 3568.65287356,\n",
       "        3625.24817591, 3681.84347826, 3738.43878061, 3795.03408296,\n",
       "        3851.62938531, 3908.22468766, 3964.81999   , 4021.41529235,\n",
       "        4078.0105947 , 4134.60589705, 4191.2011994 , 4247.79650175,\n",
       "        4304.3918041 , 4360.98710645, 4417.5824088 , 4474.17771114,\n",
       "        4530.77301349, 4587.36831584, 4643.96361819, 4700.55892054,\n",
       "        4757.15422289, 4813.74952524, 4870.34482759]),\n",
       " <a list of 50 Patch objects>)"
      ]
     },
     "execution_count": 393,
     "metadata": {},
     "output_type": "execute_result"
    },
    {
     "data": {
      "image/png": "[encoded data removed]",
      "text/plain": [
       "<Figure size 432x288 with 1 Axes>"
      ]
     },
     "metadata": {
      "needs_background": "light"
     },
     "output_type": "display_data"
    }
   ],
   "source": [
    "plt.hist(overlap,bins=50)"
   ]
  },
  {
   "cell_type": "code",
   "execution_count": null,
   "metadata": {},
   "outputs": [],
   "source": []
  },
  {
   "cell_type": "code",
   "execution_count": 367,
   "metadata": {},
   "outputs": [
    {
     "ename": "ValueError",
     "evalue": "Trailing data",
     "output_type": "error",
     "traceback": [
      "\u001b[0;31m---------------------------------------------------------------------------\u001b[0m",
      "\u001b[0;31mValueError\u001b[0m                                Traceback (most recent call last)",
      "\u001b[0;32m<ipython-input-367-417447d9457a>\u001b[0m in \u001b[0;36m<module>\u001b[0;34m\u001b[0m\n\u001b[0;32m----> 1\u001b[0;31m \u001b[0mallRolesDf\u001b[0m\u001b[0;34m=\u001b[0m\u001b[0mpd\u001b[0m\u001b[0;34m.\u001b[0m\u001b[0mread_json\u001b[0m\u001b[0;34m(\u001b[0m\u001b[0;34m'roletitle.json'\u001b[0m\u001b[0;34m)\u001b[0m\u001b[0;34m\u001b[0m\u001b[0;34m\u001b[0m\u001b[0m\n\u001b[0m",
      "\u001b[0;32m~/opt/anaconda3/lib/python3.7/site-packages/pandas/io/json/_json.py\u001b[0m in \u001b[0;36mread_json\u001b[0;34m(path_or_buf, orient, typ, dtype, convert_axes, convert_dates, keep_default_dates, numpy, precise_float, date_unit, encoding, lines, chunksize, compression)\u001b[0m\n\u001b[1;32m    590\u001b[0m         \u001b[0;32mreturn\u001b[0m \u001b[0mjson_reader\u001b[0m\u001b[0;34m\u001b[0m\u001b[0;34m\u001b[0m\u001b[0m\n\u001b[1;32m    591\u001b[0m \u001b[0;34m\u001b[0m\u001b[0m\n\u001b[0;32m--> 592\u001b[0;31m     \u001b[0mresult\u001b[0m \u001b[0;34m=\u001b[0m \u001b[0mjson_reader\u001b[0m\u001b[0;34m.\u001b[0m\u001b[0mread\u001b[0m\u001b[0;34m(\u001b[0m\u001b[0;34m)\u001b[0m\u001b[0;34m\u001b[0m\u001b[0;34m\u001b[0m\u001b[0m\n\u001b[0m\u001b[1;32m    593\u001b[0m     \u001b[0;32mif\u001b[0m \u001b[0mshould_close\u001b[0m\u001b[0;34m:\u001b[0m\u001b[0;34m\u001b[0m\u001b[0;34m\u001b[0m\u001b[0m\n\u001b[1;32m    594\u001b[0m         \u001b[0;32mtry\u001b[0m\u001b[0;34m:\u001b[0m\u001b[0;34m\u001b[0m\u001b[0;34m\u001b[0m\u001b[0m\n",
      "\u001b[0;32m~/opt/anaconda3/lib/python3.7/site-packages/pandas/io/json/_json.py\u001b[0m in \u001b[0;36mread\u001b[0;34m(self)\u001b[0m\n\u001b[1;32m    715\u001b[0m             \u001b[0mobj\u001b[0m \u001b[0;34m=\u001b[0m \u001b[0mself\u001b[0m\u001b[0;34m.\u001b[0m\u001b[0m_get_object_parser\u001b[0m\u001b[0;34m(\u001b[0m\u001b[0mself\u001b[0m\u001b[0;34m.\u001b[0m\u001b[0m_combine_lines\u001b[0m\u001b[0;34m(\u001b[0m\u001b[0mdata\u001b[0m\u001b[0;34m.\u001b[0m\u001b[0msplit\u001b[0m\u001b[0;34m(\u001b[0m\u001b[0;34m\"\\n\"\u001b[0m\u001b[0;34m)\u001b[0m\u001b[0;34m)\u001b[0m\u001b[0;34m)\u001b[0m\u001b[0;34m\u001b[0m\u001b[0;34m\u001b[0m\u001b[0m\n\u001b[1;32m    716\u001b[0m         \u001b[0;32melse\u001b[0m\u001b[0;34m:\u001b[0m\u001b[0;34m\u001b[0m\u001b[0;34m\u001b[0m\u001b[0m\n\u001b[0;32m--> 717\u001b[0;31m             \u001b[0mobj\u001b[0m \u001b[0;34m=\u001b[0m \u001b[0mself\u001b[0m\u001b[0;34m.\u001b[0m\u001b[0m_get_object_parser\u001b[0m\u001b[0;34m(\u001b[0m\u001b[0mself\u001b[0m\u001b[0;34m.\u001b[0m\u001b[0mdata\u001b[0m\u001b[0;34m)\u001b[0m\u001b[0;34m\u001b[0m\u001b[0;34m\u001b[0m\u001b[0m\n\u001b[0m\u001b[1;32m    718\u001b[0m         \u001b[0mself\u001b[0m\u001b[0;34m.\u001b[0m\u001b[0mclose\u001b[0m\u001b[0;34m(\u001b[0m\u001b[0;34m)\u001b[0m\u001b[0;34m\u001b[0m\u001b[0;34m\u001b[0m\u001b[0m\n\u001b[1;32m    719\u001b[0m         \u001b[0;32mreturn\u001b[0m \u001b[0mobj\u001b[0m\u001b[0;34m\u001b[0m\u001b[0;34m\u001b[0m\u001b[0m\n",
      "\u001b[0;32m~/opt/anaconda3/lib/python3.7/site-packages/pandas/io/json/_json.py\u001b[0m in \u001b[0;36m_get_object_parser\u001b[0;34m(self, json)\u001b[0m\n\u001b[1;32m    737\u001b[0m         \u001b[0mobj\u001b[0m \u001b[0;34m=\u001b[0m \u001b[0;32mNone\u001b[0m\u001b[0;34m\u001b[0m\u001b[0;34m\u001b[0m\u001b[0m\n\u001b[1;32m    738\u001b[0m         \u001b[0;32mif\u001b[0m \u001b[0mtyp\u001b[0m \u001b[0;34m==\u001b[0m \u001b[0;34m\"frame\"\u001b[0m\u001b[0;34m:\u001b[0m\u001b[0;34m\u001b[0m\u001b[0;34m\u001b[0m\u001b[0m\n\u001b[0;32m--> 739\u001b[0;31m             \u001b[0mobj\u001b[0m \u001b[0;34m=\u001b[0m \u001b[0mFrameParser\u001b[0m\u001b[0;34m(\u001b[0m\u001b[0mjson\u001b[0m\u001b[0;34m,\u001b[0m \u001b[0;34m**\u001b[0m\u001b[0mkwargs\u001b[0m\u001b[0;34m)\u001b[0m\u001b[0;34m.\u001b[0m\u001b[0mparse\u001b[0m\u001b[0;34m(\u001b[0m\u001b[0;34m)\u001b[0m\u001b[0;34m\u001b[0m\u001b[0;34m\u001b[0m\u001b[0m\n\u001b[0m\u001b[1;32m    740\u001b[0m \u001b[0;34m\u001b[0m\u001b[0m\n\u001b[1;32m    741\u001b[0m         \u001b[0;32mif\u001b[0m \u001b[0mtyp\u001b[0m \u001b[0;34m==\u001b[0m \u001b[0;34m\"series\"\u001b[0m \u001b[0;32mor\u001b[0m \u001b[0mobj\u001b[0m \u001b[0;32mis\u001b[0m \u001b[0;32mNone\u001b[0m\u001b[0;34m:\u001b[0m\u001b[0;34m\u001b[0m\u001b[0;34m\u001b[0m\u001b[0m\n",
      "\u001b[0;32m~/opt/anaconda3/lib/python3.7/site-packages/pandas/io/json/_json.py\u001b[0m in \u001b[0;36mparse\u001b[0;34m(self)\u001b[0m\n\u001b[1;32m    847\u001b[0m \u001b[0;34m\u001b[0m\u001b[0m\n\u001b[1;32m    848\u001b[0m         \u001b[0;32melse\u001b[0m\u001b[0;34m:\u001b[0m\u001b[0;34m\u001b[0m\u001b[0;34m\u001b[0m\u001b[0m\n\u001b[0;32m--> 849\u001b[0;31m             \u001b[0mself\u001b[0m\u001b[0;34m.\u001b[0m\u001b[0m_parse_no_numpy\u001b[0m\u001b[0;34m(\u001b[0m\u001b[0;34m)\u001b[0m\u001b[0;34m\u001b[0m\u001b[0;34m\u001b[0m\u001b[0m\n\u001b[0m\u001b[1;32m    850\u001b[0m \u001b[0;34m\u001b[0m\u001b[0m\n\u001b[1;32m    851\u001b[0m         \u001b[0;32mif\u001b[0m \u001b[0mself\u001b[0m\u001b[0;34m.\u001b[0m\u001b[0mobj\u001b[0m \u001b[0;32mis\u001b[0m \u001b[0;32mNone\u001b[0m\u001b[0;34m:\u001b[0m\u001b[0;34m\u001b[0m\u001b[0;34m\u001b[0m\u001b[0m\n",
      "\u001b[0;32m~/opt/anaconda3/lib/python3.7/site-packages/pandas/io/json/_json.py\u001b[0m in \u001b[0;36m_parse_no_numpy\u001b[0;34m(self)\u001b[0m\n\u001b[1;32m   1091\u001b[0m         \u001b[0;32mif\u001b[0m \u001b[0morient\u001b[0m \u001b[0;34m==\u001b[0m \u001b[0;34m\"columns\"\u001b[0m\u001b[0;34m:\u001b[0m\u001b[0;34m\u001b[0m\u001b[0;34m\u001b[0m\u001b[0m\n\u001b[1;32m   1092\u001b[0m             self.obj = DataFrame(\n\u001b[0;32m-> 1093\u001b[0;31m                 \u001b[0mloads\u001b[0m\u001b[0;34m(\u001b[0m\u001b[0mjson\u001b[0m\u001b[0;34m,\u001b[0m \u001b[0mprecise_float\u001b[0m\u001b[0;34m=\u001b[0m\u001b[0mself\u001b[0m\u001b[0;34m.\u001b[0m\u001b[0mprecise_float\u001b[0m\u001b[0;34m)\u001b[0m\u001b[0;34m,\u001b[0m \u001b[0mdtype\u001b[0m\u001b[0;34m=\u001b[0m\u001b[0;32mNone\u001b[0m\u001b[0;34m\u001b[0m\u001b[0;34m\u001b[0m\u001b[0m\n\u001b[0m\u001b[1;32m   1094\u001b[0m             )\n\u001b[1;32m   1095\u001b[0m         \u001b[0;32melif\u001b[0m \u001b[0morient\u001b[0m \u001b[0;34m==\u001b[0m \u001b[0;34m\"split\"\u001b[0m\u001b[0;34m:\u001b[0m\u001b[0;34m\u001b[0m\u001b[0;34m\u001b[0m\u001b[0m\n",
      "\u001b[0;31mValueError\u001b[0m: Trailing data"
     ]
    }
   ],
   "source": [
    "allRolesDf=pd.read_json('roletitle.json')"
   ]
  },
  {
   "cell_type": "code",
   "execution_count": 314,
   "metadata": {},
   "outputs": [],
   "source": [
    "i=(list(range(0,row)),list(range(15,20)))"
   ]
  },
  {
   "cell_type": "code",
   "execution_count": 316,
   "metadata": {},
   "outputs": [
    {
     "ename": "ValueError",
     "evalue": "Can only tuple-index with a MultiIndex",
     "output_type": "error",
     "traceback": [
      "\u001b[0;31m---------------------------------------------------------------------------\u001b[0m",
      "\u001b[0;31mValueError\u001b[0m                                Traceback (most recent call last)",
      "\u001b[0;32m<ipython-input-316-a9b5b9e5ec93>\u001b[0m in \u001b[0;36m<module>\u001b[0;34m\u001b[0m\n\u001b[0;32m----> 1\u001b[0;31m \u001b[0mroles1\u001b[0m\u001b[0;34m[\u001b[0m\u001b[0;34m'normalisedLongestMatch'\u001b[0m\u001b[0;34m]\u001b[0m\u001b[0;34m[\u001b[0m\u001b[0mi\u001b[0m\u001b[0;34m]\u001b[0m\u001b[0;34m\u001b[0m\u001b[0;34m\u001b[0m\u001b[0m\n\u001b[0m",
      "\u001b[0;32m~/opt/anaconda3/lib/python3.7/site-packages/pandas/core/series.py\u001b[0m in \u001b[0;36m__getitem__\u001b[0;34m(self, key)\u001b[0m\n\u001b[1;32m   1108\u001b[0m             \u001b[0mkey\u001b[0m \u001b[0;34m=\u001b[0m \u001b[0mcheck_bool_indexer\u001b[0m\u001b[0;34m(\u001b[0m\u001b[0mself\u001b[0m\u001b[0;34m.\u001b[0m\u001b[0mindex\u001b[0m\u001b[0;34m,\u001b[0m \u001b[0mkey\u001b[0m\u001b[0;34m)\u001b[0m\u001b[0;34m\u001b[0m\u001b[0;34m\u001b[0m\u001b[0m\n\u001b[1;32m   1109\u001b[0m \u001b[0;34m\u001b[0m\u001b[0m\n\u001b[0;32m-> 1110\u001b[0;31m         \u001b[0;32mreturn\u001b[0m \u001b[0mself\u001b[0m\u001b[0;34m.\u001b[0m\u001b[0m_get_with\u001b[0m\u001b[0;34m(\u001b[0m\u001b[0mkey\u001b[0m\u001b[0;34m)\u001b[0m\u001b[0;34m\u001b[0m\u001b[0;34m\u001b[0m\u001b[0m\n\u001b[0m\u001b[1;32m   1111\u001b[0m \u001b[0;34m\u001b[0m\u001b[0m\n\u001b[1;32m   1112\u001b[0m     \u001b[0;32mdef\u001b[0m \u001b[0m_get_with\u001b[0m\u001b[0;34m(\u001b[0m\u001b[0mself\u001b[0m\u001b[0;34m,\u001b[0m \u001b[0mkey\u001b[0m\u001b[0;34m)\u001b[0m\u001b[0;34m:\u001b[0m\u001b[0;34m\u001b[0m\u001b[0;34m\u001b[0m\u001b[0m\n",
      "\u001b[0;32m~/opt/anaconda3/lib/python3.7/site-packages/pandas/core/series.py\u001b[0m in \u001b[0;36m_get_with\u001b[0;34m(self, key)\u001b[0m\n\u001b[1;32m   1122\u001b[0m         \u001b[0;32melif\u001b[0m \u001b[0misinstance\u001b[0m\u001b[0;34m(\u001b[0m\u001b[0mkey\u001b[0m\u001b[0;34m,\u001b[0m \u001b[0mtuple\u001b[0m\u001b[0;34m)\u001b[0m\u001b[0;34m:\u001b[0m\u001b[0;34m\u001b[0m\u001b[0;34m\u001b[0m\u001b[0m\n\u001b[1;32m   1123\u001b[0m             \u001b[0;32mtry\u001b[0m\u001b[0;34m:\u001b[0m\u001b[0;34m\u001b[0m\u001b[0;34m\u001b[0m\u001b[0m\n\u001b[0;32m-> 1124\u001b[0;31m                 \u001b[0;32mreturn\u001b[0m \u001b[0mself\u001b[0m\u001b[0;34m.\u001b[0m\u001b[0m_get_values_tuple\u001b[0m\u001b[0;34m(\u001b[0m\u001b[0mkey\u001b[0m\u001b[0;34m)\u001b[0m\u001b[0;34m\u001b[0m\u001b[0;34m\u001b[0m\u001b[0m\n\u001b[0m\u001b[1;32m   1125\u001b[0m             \u001b[0;32mexcept\u001b[0m \u001b[0mException\u001b[0m\u001b[0;34m:\u001b[0m\u001b[0;34m\u001b[0m\u001b[0;34m\u001b[0m\u001b[0m\n\u001b[1;32m   1126\u001b[0m                 \u001b[0;32mif\u001b[0m \u001b[0mlen\u001b[0m\u001b[0;34m(\u001b[0m\u001b[0mkey\u001b[0m\u001b[0;34m)\u001b[0m \u001b[0;34m==\u001b[0m \u001b[0;36m1\u001b[0m\u001b[0;34m:\u001b[0m\u001b[0;34m\u001b[0m\u001b[0;34m\u001b[0m\u001b[0m\n",
      "\u001b[0;32m~/opt/anaconda3/lib/python3.7/site-packages/pandas/core/series.py\u001b[0m in \u001b[0;36m_get_values_tuple\u001b[0;34m(self, key)\u001b[0m\n\u001b[1;32m   1167\u001b[0m \u001b[0;34m\u001b[0m\u001b[0m\n\u001b[1;32m   1168\u001b[0m         \u001b[0;32mif\u001b[0m \u001b[0;32mnot\u001b[0m \u001b[0misinstance\u001b[0m\u001b[0;34m(\u001b[0m\u001b[0mself\u001b[0m\u001b[0;34m.\u001b[0m\u001b[0mindex\u001b[0m\u001b[0;34m,\u001b[0m \u001b[0mMultiIndex\u001b[0m\u001b[0;34m)\u001b[0m\u001b[0;34m:\u001b[0m\u001b[0;34m\u001b[0m\u001b[0;34m\u001b[0m\u001b[0m\n\u001b[0;32m-> 1169\u001b[0;31m             \u001b[0;32mraise\u001b[0m \u001b[0mValueError\u001b[0m\u001b[0;34m(\u001b[0m\u001b[0;34m\"Can only tuple-index with a MultiIndex\"\u001b[0m\u001b[0;34m)\u001b[0m\u001b[0;34m\u001b[0m\u001b[0;34m\u001b[0m\u001b[0m\n\u001b[0m\u001b[1;32m   1170\u001b[0m \u001b[0;34m\u001b[0m\u001b[0m\n\u001b[1;32m   1171\u001b[0m         \u001b[0;31m# If key is contained, would have returned by now\u001b[0m\u001b[0;34m\u001b[0m\u001b[0;34m\u001b[0m\u001b[0;34m\u001b[0m\u001b[0m\n",
      "\u001b[0;31mValueError\u001b[0m: Can only tuple-index with a MultiIndex"
     ]
    }
   ],
   "source": [
    "roles1['normalisedLongestMatch'][i]"
   ]
  },
  {
   "cell_type": "code",
   "execution_count": null,
   "metadata": {},
   "outputs": [],
   "source": []
  },
  {
   "cell_type": "code",
   "execution_count": null,
   "metadata": {},
   "outputs": [],
   "source": []
  }
 ],
 "metadata": {
  "kernelspec": {
   "display_name": "Python 3",
   "language": "python",
   "name": "python3"
  },
  "language_info": {
   "codemirror_mode": {
    "name": "ipython",
    "version": 3
   },
   "file_extension": ".py",
   "mimetype": "text/x-python",
   "name": "python",
   "nbconvert_exporter": "python",
   "pygments_lexer": "ipython3",
   "version": "3.7.4"
  }
 },
 "nbformat": 4,
 "nbformat_minor": 4
}
