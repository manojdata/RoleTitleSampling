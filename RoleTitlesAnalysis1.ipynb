{
 "cells": [
  {
   "cell_type": "code",
   "execution_count": 180,
   "metadata": {},
   "outputs": [],
   "source": [
    "import pandas as pd\n",
    "import numpy as np\n",
    "import matplotlib.pyplot as plt\n",
    "import powerlaw\n",
    "import random\n",
    "plt.style.use('bmh')\n",
    "%matplotlib inline"
   ]
  },
  {
   "cell_type": "code",
   "execution_count": 116,
   "metadata": {},
   "outputs": [
    {
     "name": "stdout",
     "output_type": "stream",
     "text": [
      "Collecting powerlaw\n",
      "  Downloading https://files.pythonhosted.org/packages/d5/4e/3ceab890fafff8e78a5fd7f5340c232c38b21d181fcd32d7a31079db3646/powerlaw-1.4.6.tar.gz\n",
      "Requirement already satisfied: scipy in /Users/mgambhir/opt/anaconda3/lib/python3.7/site-packages (from powerlaw) (1.3.1)\n",
      "Requirement already satisfied: numpy in /Users/mgambhir/opt/anaconda3/lib/python3.7/site-packages (from powerlaw) (1.17.2)\n",
      "Requirement already satisfied: matplotlib in /Users/mgambhir/opt/anaconda3/lib/python3.7/site-packages (from powerlaw) (3.1.1)\n",
      "Requirement already satisfied: mpmath in /Users/mgambhir/opt/anaconda3/lib/python3.7/site-packages (from powerlaw) (1.1.0)\n",
      "Requirement already satisfied: cycler>=0.10 in /Users/mgambhir/opt/anaconda3/lib/python3.7/site-packages (from matplotlib->powerlaw) (0.10.0)\n",
      "Requirement already satisfied: kiwisolver>=1.0.1 in /Users/mgambhir/opt/anaconda3/lib/python3.7/site-packages (from matplotlib->powerlaw) (1.1.0)\n",
      "Requirement already satisfied: pyparsing!=2.0.4,!=2.1.2,!=2.1.6,>=2.0.1 in /Users/mgambhir/opt/anaconda3/lib/python3.7/site-packages (from matplotlib->powerlaw) (2.4.2)\n",
      "Requirement already satisfied: python-dateutil>=2.1 in /Users/mgambhir/opt/anaconda3/lib/python3.7/site-packages (from matplotlib->powerlaw) (2.8.0)\n",
      "Requirement already satisfied: six in /Users/mgambhir/opt/anaconda3/lib/python3.7/site-packages (from cycler>=0.10->matplotlib->powerlaw) (1.12.0)\n",
      "Requirement already satisfied: setuptools in /Users/mgambhir/opt/anaconda3/lib/python3.7/site-packages (from kiwisolver>=1.0.1->matplotlib->powerlaw) (41.4.0)\n",
      "Building wheels for collected packages: powerlaw\n",
      "  Building wheel for powerlaw (setup.py) ... \u001b[?25ldone\n",
      "\u001b[?25h  Created wheel for powerlaw: filename=powerlaw-1.4.6-cp37-none-any.whl size=24787 sha256=897f13eecf2db8afec9fd629c755fad04978375051d12dd09fa259891537c367\n",
      "  Stored in directory: /Users/mgambhir/Library/Caches/pip/wheels/e0/27/02/08d0e2865072bfd8d7c655e290521e3feca3fc22f1ac460601\n",
      "Successfully built powerlaw\n",
      "Installing collected packages: powerlaw\n",
      "Successfully installed powerlaw-1.4.6\n"
     ]
    }
   ],
   "source": [
    "!pip install powerlaw"
   ]
  },
  {
   "cell_type": "code",
   "execution_count": 5,
   "metadata": {},
   "outputs": [
    {
     "name": "stdout",
     "output_type": "stream",
     "text": [
      "['seaborn-dark', 'seaborn-darkgrid', 'seaborn-ticks', 'fivethirtyeight', 'seaborn-whitegrid', 'classic', '_classic_test', 'fast', 'seaborn-talk', 'seaborn-dark-palette', 'seaborn-bright', 'seaborn-pastel', 'grayscale', 'seaborn-notebook', 'ggplot', 'seaborn-colorblind', 'seaborn-muted', 'seaborn', 'Solarize_Light2', 'seaborn-paper', 'bmh', 'tableau-colorblind10', 'seaborn-white', 'dark_background', 'seaborn-poster', 'seaborn-deep']\n"
     ]
    }
   ],
   "source": [
    "print(plt.style.available)"
   ]
  },
  {
   "cell_type": "code",
   "execution_count": 6,
   "metadata": {},
   "outputs": [
    {
     "name": "stdout",
     "output_type": "stream",
     "text": [
      "/Users/mgambhir/OneDrive - SEEK/code/notebooks\n"
     ]
    }
   ],
   "source": [
    "!pwd"
   ]
  },
  {
   "cell_type": "code",
   "execution_count": 7,
   "metadata": {},
   "outputs": [
    {
     "name": "stdout",
     "output_type": "stream",
     "text": [
      "ANZ_RT_norm.xlsx                       metrics-data-set-with-duplicates.ipynb\n",
      "RoleTitlesAnalysis1.ipynb              roletitle12-12-2019.csv\n",
      "Untitled.ipynb                         roletitle27-11-2019.csv\n"
     ]
    }
   ],
   "source": [
    "!ls"
   ]
  },
  {
   "cell_type": "code",
   "execution_count": 8,
   "metadata": {},
   "outputs": [],
   "source": [
    "roles=pd.read_excel(\"ANZ_RT_norm.xlsx\")\n",
    "roles1=pd.read_csv(\"roletitle27-11-2019.csv\")"
   ]
  },
  {
   "cell_type": "code",
   "execution_count": 9,
   "metadata": {},
   "outputs": [
    {
     "name": "stdout",
     "output_type": "stream",
     "text": [
      "Index(['Row Labels', 'Count of jobId', 'top'], dtype='object')\n"
     ]
    }
   ],
   "source": [
    "print(roles.columns)"
   ]
  },
  {
   "cell_type": "code",
   "execution_count": 10,
   "metadata": {},
   "outputs": [
    {
     "data": {
      "text/html": [
       "<div>\n",
       "<style scoped>\n",
       "    .dataframe tbody tr th:only-of-type {\n",
       "        vertical-align: middle;\n",
       "    }\n",
       "\n",
       "    .dataframe tbody tr th {\n",
       "        vertical-align: top;\n",
       "    }\n",
       "\n",
       "    .dataframe thead th {\n",
       "        text-align: right;\n",
       "    }\n",
       "</style>\n",
       "<table border=\"1\" class=\"dataframe\">\n",
       "  <thead>\n",
       "    <tr style=\"text-align: right;\">\n",
       "      <th></th>\n",
       "      <th>Row Labels</th>\n",
       "      <th>Count of jobId</th>\n",
       "      <th>top</th>\n",
       "    </tr>\n",
       "  </thead>\n",
       "  <tbody>\n",
       "    <tr>\n",
       "      <td>0</td>\n",
       "      <td>Administration Officer</td>\n",
       "      <td>39465</td>\n",
       "      <td>1</td>\n",
       "    </tr>\n",
       "    <tr>\n",
       "      <td>1</td>\n",
       "      <td>Project Manager</td>\n",
       "      <td>29342</td>\n",
       "      <td>2</td>\n",
       "    </tr>\n",
       "    <tr>\n",
       "      <td>2</td>\n",
       "      <td>Customer Service Representative</td>\n",
       "      <td>24348</td>\n",
       "      <td>3</td>\n",
       "    </tr>\n",
       "    <tr>\n",
       "      <td>3</td>\n",
       "      <td>Registered Nurse</td>\n",
       "      <td>23878</td>\n",
       "      <td>4</td>\n",
       "    </tr>\n",
       "    <tr>\n",
       "      <td>4</td>\n",
       "      <td>Store Manager</td>\n",
       "      <td>20359</td>\n",
       "      <td>5</td>\n",
       "    </tr>\n",
       "  </tbody>\n",
       "</table>\n",
       "</div>"
      ],
      "text/plain": [
       "                        Row Labels  Count of jobId  top\n",
       "0           Administration Officer           39465    1\n",
       "1                  Project Manager           29342    2\n",
       "2  Customer Service Representative           24348    3\n",
       "3                 Registered Nurse           23878    4\n",
       "4                    Store Manager           20359    5"
      ]
     },
     "execution_count": 10,
     "metadata": {},
     "output_type": "execute_result"
    }
   ],
   "source": [
    "roles.head()"
   ]
  },
  {
   "cell_type": "code",
   "execution_count": 11,
   "metadata": {},
   "outputs": [],
   "source": [
    "roles['log_count']=np.log(roles['Count of jobId'])"
   ]
  },
  {
   "cell_type": "code",
   "execution_count": 12,
   "metadata": {},
   "outputs": [],
   "source": [
    "roles['log_rank']=np.log(roles['top'])"
   ]
  },
  {
   "cell_type": "code",
   "execution_count": 13,
   "metadata": {},
   "outputs": [
    {
     "data": {
      "text/html": [
       "<div>\n",
       "<style scoped>\n",
       "    .dataframe tbody tr th:only-of-type {\n",
       "        vertical-align: middle;\n",
       "    }\n",
       "\n",
       "    .dataframe tbody tr th {\n",
       "        vertical-align: top;\n",
       "    }\n",
       "\n",
       "    .dataframe thead th {\n",
       "        text-align: right;\n",
       "    }\n",
       "</style>\n",
       "<table border=\"1\" class=\"dataframe\">\n",
       "  <thead>\n",
       "    <tr style=\"text-align: right;\">\n",
       "      <th></th>\n",
       "      <th>Row Labels</th>\n",
       "      <th>Count of jobId</th>\n",
       "      <th>top</th>\n",
       "      <th>log_count</th>\n",
       "      <th>log_rank</th>\n",
       "    </tr>\n",
       "  </thead>\n",
       "  <tbody>\n",
       "    <tr>\n",
       "      <td>0</td>\n",
       "      <td>Administration Officer</td>\n",
       "      <td>39465</td>\n",
       "      <td>1</td>\n",
       "      <td>10.583169</td>\n",
       "      <td>0.000000</td>\n",
       "    </tr>\n",
       "    <tr>\n",
       "      <td>1</td>\n",
       "      <td>Project Manager</td>\n",
       "      <td>29342</td>\n",
       "      <td>2</td>\n",
       "      <td>10.286775</td>\n",
       "      <td>0.693147</td>\n",
       "    </tr>\n",
       "    <tr>\n",
       "      <td>2</td>\n",
       "      <td>Customer Service Representative</td>\n",
       "      <td>24348</td>\n",
       "      <td>3</td>\n",
       "      <td>10.100205</td>\n",
       "      <td>1.098612</td>\n",
       "    </tr>\n",
       "    <tr>\n",
       "      <td>3</td>\n",
       "      <td>Registered Nurse</td>\n",
       "      <td>23878</td>\n",
       "      <td>4</td>\n",
       "      <td>10.080713</td>\n",
       "      <td>1.386294</td>\n",
       "    </tr>\n",
       "    <tr>\n",
       "      <td>4</td>\n",
       "      <td>Store Manager</td>\n",
       "      <td>20359</td>\n",
       "      <td>5</td>\n",
       "      <td>9.921278</td>\n",
       "      <td>1.609438</td>\n",
       "    </tr>\n",
       "  </tbody>\n",
       "</table>\n",
       "</div>"
      ],
      "text/plain": [
       "                        Row Labels  Count of jobId  top  log_count  log_rank\n",
       "0           Administration Officer           39465    1  10.583169  0.000000\n",
       "1                  Project Manager           29342    2  10.286775  0.693147\n",
       "2  Customer Service Representative           24348    3  10.100205  1.098612\n",
       "3                 Registered Nurse           23878    4  10.080713  1.386294\n",
       "4                    Store Manager           20359    5   9.921278  1.609438"
      ]
     },
     "execution_count": 13,
     "metadata": {},
     "output_type": "execute_result"
    }
   ],
   "source": [
    "roles.head()"
   ]
  },
  {
   "cell_type": "code",
   "execution_count": 14,
   "metadata": {},
   "outputs": [
    {
     "data": {
      "text/plain": [
       "<matplotlib.axes._subplots.AxesSubplot at 0x1236b3450>"
      ]
     },
     "execution_count": 14,
     "metadata": {},
     "output_type": "execute_result"
    },
    {
     "data": {
      "image/png": "[encoded data removed]",
      "text/plain": [
       "<Figure size 432x288 with 1 Axes>"
      ]
     },
     "metadata": {
      "needs_background": "light"
     },
     "output_type": "display_data"
    }
   ],
   "source": [
    "roles.plot('log_rank','log_count',kind='line')"
   ]
  },
  {
   "cell_type": "code",
   "execution_count": 15,
   "metadata": {},
   "outputs": [
    {
     "data": {
      "text/plain": [
       "<matplotlib.axes._subplots.AxesSubplot at 0x12377add0>"
      ]
     },
     "execution_count": 15,
     "metadata": {},
     "output_type": "execute_result"
    },
    {
     "data": {
      "image/png": "[encoded data removed]",
      "text/plain": [
       "<Figure size 432x288 with 1 Axes>"
      ]
     },
     "metadata": {
      "needs_background": "light"
     },
     "output_type": "display_data"
    }
   ],
   "source": [
    "roles.plot('top','log_count',kind='line')"
   ]
  },
  {
   "cell_type": "code",
   "execution_count": 16,
   "metadata": {},
   "outputs": [
    {
     "name": "stdout",
     "output_type": "stream",
     "text": [
      "/Users/mgambhir/OneDrive - SEEK/code/notebooks\n"
     ]
    }
   ],
   "source": [
    "!pwd"
   ]
  },
  {
   "cell_type": "code",
   "execution_count": 17,
   "metadata": {},
   "outputs": [
    {
     "name": "stdout",
     "output_type": "stream",
     "text": [
      "ANZ_RT_norm.xlsx                       metrics-data-set-with-duplicates.ipynb\n",
      "RoleTitlesAnalysis1.ipynb              roletitle12-12-2019.csv\n",
      "Untitled.ipynb                         roletitle27-11-2019.csv\n"
     ]
    }
   ],
   "source": [
    "!ls"
   ]
  },
  {
   "cell_type": "code",
   "execution_count": 18,
   "metadata": {},
   "outputs": [
    {
     "data": {
      "text/plain": [
       "Index(['remineDate', 'jobId', 'inputText', 'longestVariantMatch',\n",
       "       'normalisedLongestMatch', 'coreTitle', 'rawSeniority',\n",
       "       'normalisedSeniority', 'normalisedMatchWithSeniority', 'variant2',\n",
       "       'variant3', 'variant4', 'variant5', 'longestVariantAboveThreshold',\n",
       "       'longestNormalisedAboveThreshold',\n",
       "       'mostGranularNormalisedOrCoreAboveThreshold'],\n",
       "      dtype='object')"
      ]
     },
     "execution_count": 18,
     "metadata": {},
     "output_type": "execute_result"
    }
   ],
   "source": [
    "roles1.columns"
   ]
  },
  {
   "cell_type": "code",
   "execution_count": 24,
   "metadata": {},
   "outputs": [],
   "source": [
    "uniqueRoles1=roles1['normalisedLongestMatch'].unique()"
   ]
  },
  {
   "cell_type": "code",
   "execution_count": 26,
   "metadata": {},
   "outputs": [
    {
     "data": {
      "text/plain": [
       "20202"
      ]
     },
     "execution_count": 26,
     "metadata": {},
     "output_type": "execute_result"
    }
   ],
   "source": [
    "len(uniqueRoles1.tolist())"
   ]
  },
  {
   "cell_type": "code",
   "execution_count": 28,
   "metadata": {},
   "outputs": [],
   "source": [
    "df2=roles1['normalisedLongestMatch'].value_counts()"
   ]
  },
  {
   "cell_type": "code",
   "execution_count": 29,
   "metadata": {},
   "outputs": [
    {
     "data": {
      "text/plain": [
       "Administration Officer             38882\n",
       "Project Manager                    28970\n",
       "Registered Nurse                   23606\n",
       "Customer Service Representative    23478\n",
       "Store Manager                      19794\n",
       "Name: normalisedLongestMatch, dtype: int64"
      ]
     },
     "execution_count": 29,
     "metadata": {},
     "output_type": "execute_result"
    }
   ],
   "source": [
    "df2.head()"
   ]
  },
  {
   "cell_type": "code",
   "execution_count": 34,
   "metadata": {},
   "outputs": [
    {
     "data": {
      "text/plain": [
       "(2850590, 16)"
      ]
     },
     "execution_count": 34,
     "metadata": {},
     "output_type": "execute_result"
    }
   ],
   "source": [
    "roles1.shape"
   ]
  },
  {
   "cell_type": "code",
   "execution_count": 207,
   "metadata": {},
   "outputs": [],
   "source": [
    "import decimal\n",
    "z = [decimal.Decimal(i) / decimal.Decimal(200) for i in range(1, 51)]"
   ]
  },
  {
   "cell_type": "code",
   "execution_count": 208,
   "metadata": {},
   "outputs": [
    {
     "data": {
      "text/plain": [
       "[Decimal('0.005'),\n",
       " Decimal('0.01'),\n",
       " Decimal('0.015'),\n",
       " Decimal('0.02'),\n",
       " Decimal('0.025'),\n",
       " Decimal('0.03'),\n",
       " Decimal('0.035'),\n",
       " Decimal('0.04'),\n",
       " Decimal('0.045'),\n",
       " Decimal('0.05'),\n",
       " Decimal('0.055'),\n",
       " Decimal('0.06'),\n",
       " Decimal('0.065'),\n",
       " Decimal('0.07'),\n",
       " Decimal('0.075'),\n",
       " Decimal('0.08'),\n",
       " Decimal('0.085'),\n",
       " Decimal('0.09'),\n",
       " Decimal('0.095'),\n",
       " Decimal('0.1'),\n",
       " Decimal('0.105'),\n",
       " Decimal('0.11'),\n",
       " Decimal('0.115'),\n",
       " Decimal('0.12'),\n",
       " Decimal('0.125'),\n",
       " Decimal('0.13'),\n",
       " Decimal('0.135'),\n",
       " Decimal('0.14'),\n",
       " Decimal('0.145'),\n",
       " Decimal('0.15'),\n",
       " Decimal('0.155'),\n",
       " Decimal('0.16'),\n",
       " Decimal('0.165'),\n",
       " Decimal('0.17'),\n",
       " Decimal('0.175'),\n",
       " Decimal('0.18'),\n",
       " Decimal('0.185'),\n",
       " Decimal('0.19'),\n",
       " Decimal('0.195'),\n",
       " Decimal('0.2'),\n",
       " Decimal('0.205'),\n",
       " Decimal('0.21'),\n",
       " Decimal('0.215'),\n",
       " Decimal('0.22'),\n",
       " Decimal('0.225'),\n",
       " Decimal('0.23'),\n",
       " Decimal('0.235'),\n",
       " Decimal('0.24'),\n",
       " Decimal('0.245'),\n",
       " Decimal('0.25')]"
      ]
     },
     "execution_count": 208,
     "metadata": {},
     "output_type": "execute_result"
    }
   ],
   "source": [
    "z"
   ]
  },
  {
   "cell_type": "code",
   "execution_count": 209,
   "metadata": {},
   "outputs": [],
   "source": [
    "numRows=roles1.shape[0]"
   ]
  },
  {
   "cell_type": "code",
   "execution_count": 210,
   "metadata": {},
   "outputs": [
    {
     "data": {
      "text/plain": [
       "28505"
      ]
     },
     "execution_count": 210,
     "metadata": {},
     "output_type": "execute_result"
    }
   ],
   "source": [
    "int(z[1]*numRows)"
   ]
  },
  {
   "cell_type": "code",
   "execution_count": 211,
   "metadata": {},
   "outputs": [
    {
     "data": {
      "text/plain": [
       "0                              NaN\n",
       "1          Client Services Officer\n",
       "2                           Fitter\n",
       "3         Trade Assistant Labourer\n",
       "4                              NaN\n",
       "5                    Dance Teacher\n",
       "6                              NaN\n",
       "7                 Business Partner\n",
       "8                 Sales Consultant\n",
       "9    Telecommunications Technician\n",
       "Name: normalisedLongestMatch, dtype: object"
      ]
     },
     "execution_count": 211,
     "metadata": {},
     "output_type": "execute_result"
    }
   ],
   "source": [
    "roles1['normalisedLongestMatch'][0:10]"
   ]
  },
  {
   "cell_type": "code",
   "execution_count": 212,
   "metadata": {},
   "outputs": [
    {
     "name": "stdout",
     "output_type": "stream",
     "text": [
      "14252\n",
      "28505\n",
      "42758\n",
      "57011\n",
      "71264\n",
      "85517\n",
      "99770\n"
     ]
    },
    {
     "name": "stderr",
     "output_type": "stream",
     "text": [
      "Calculating best minimal value for power law fit\n",
      "Calculating best minimal value for power law fit\n",
      "Calculating best minimal value for power law fit\n",
      "Calculating best minimal value for power law fit\n",
      "Calculating best minimal value for power law fit\n",
      "Calculating best minimal value for power law fit\n",
      "Calculating best minimal value for power law fit\n"
     ]
    },
    {
     "name": "stdout",
     "output_type": "stream",
     "text": [
      "114023\n",
      "128276\n",
      "142529\n",
      "156782\n",
      "171035\n"
     ]
    },
    {
     "name": "stderr",
     "output_type": "stream",
     "text": [
      "Calculating best minimal value for power law fit\n",
      "Calculating best minimal value for power law fit\n",
      "Calculating best minimal value for power law fit\n",
      "Calculating best minimal value for power law fit\n",
      "Calculating best minimal value for power law fit\n",
      "Calculating best minimal value for power law fit\n",
      "Calculating best minimal value for power law fit\n",
      "Calculating best minimal value for power law fit\n"
     ]
    },
    {
     "name": "stdout",
     "output_type": "stream",
     "text": [
      "185288\n",
      "199541\n",
      "213794\n",
      "228047\n"
     ]
    },
    {
     "name": "stderr",
     "output_type": "stream",
     "text": [
      "Calculating best minimal value for power law fit\n",
      "Calculating best minimal value for power law fit\n",
      "Calculating best minimal value for power law fit\n"
     ]
    },
    {
     "name": "stdout",
     "output_type": "stream",
     "text": [
      "242300\n",
      "256553\n",
      "270806\n"
     ]
    },
    {
     "name": "stderr",
     "output_type": "stream",
     "text": [
      "Calculating best minimal value for power law fit\n",
      "Calculating best minimal value for power law fit\n",
      "Calculating best minimal value for power law fit\n"
     ]
    },
    {
     "name": "stdout",
     "output_type": "stream",
     "text": [
      "285059\n",
      "299311\n",
      "313564\n"
     ]
    },
    {
     "name": "stderr",
     "output_type": "stream",
     "text": [
      "Calculating best minimal value for power law fit\n",
      "Calculating best minimal value for power law fit\n",
      "Calculating best minimal value for power law fit\n"
     ]
    },
    {
     "name": "stdout",
     "output_type": "stream",
     "text": [
      "327817\n",
      "342070\n",
      "356323\n"
     ]
    },
    {
     "name": "stderr",
     "output_type": "stream",
     "text": [
      "Calculating best minimal value for power law fit\n",
      "Calculating best minimal value for power law fit\n",
      "Calculating best minimal value for power law fit\n"
     ]
    },
    {
     "name": "stdout",
     "output_type": "stream",
     "text": [
      "370576\n",
      "384829\n",
      "399082\n"
     ]
    },
    {
     "name": "stderr",
     "output_type": "stream",
     "text": [
      "Calculating best minimal value for power law fit\n",
      "Calculating best minimal value for power law fit\n"
     ]
    },
    {
     "name": "stdout",
     "output_type": "stream",
     "text": [
      "413335\n",
      "427588\n",
      "441841\n"
     ]
    },
    {
     "name": "stderr",
     "output_type": "stream",
     "text": [
      "Calculating best minimal value for power law fit\n",
      "Calculating best minimal value for power law fit\n"
     ]
    },
    {
     "name": "stdout",
     "output_type": "stream",
     "text": [
      "456094\n",
      "470347\n"
     ]
    },
    {
     "name": "stderr",
     "output_type": "stream",
     "text": [
      "Calculating best minimal value for power law fit\n",
      "Calculating best minimal value for power law fit\n"
     ]
    },
    {
     "name": "stdout",
     "output_type": "stream",
     "text": [
      "484600\n",
      "498853\n"
     ]
    },
    {
     "name": "stderr",
     "output_type": "stream",
     "text": [
      "Calculating best minimal value for power law fit\n",
      "Calculating best minimal value for power law fit\n"
     ]
    },
    {
     "name": "stdout",
     "output_type": "stream",
     "text": [
      "513106\n",
      "527359\n"
     ]
    },
    {
     "name": "stderr",
     "output_type": "stream",
     "text": [
      "Calculating best minimal value for power law fit\n",
      "Calculating best minimal value for power law fit\n"
     ]
    },
    {
     "name": "stdout",
     "output_type": "stream",
     "text": [
      "541612\n",
      "555865\n"
     ]
    },
    {
     "name": "stderr",
     "output_type": "stream",
     "text": [
      "Calculating best minimal value for power law fit\n",
      "Calculating best minimal value for power law fit\n"
     ]
    },
    {
     "name": "stdout",
     "output_type": "stream",
     "text": [
      "570118\n",
      "584370\n"
     ]
    },
    {
     "name": "stderr",
     "output_type": "stream",
     "text": [
      "Calculating best minimal value for power law fit\n",
      "Calculating best minimal value for power law fit\n"
     ]
    },
    {
     "name": "stdout",
     "output_type": "stream",
     "text": [
      "598623\n",
      "612876\n"
     ]
    },
    {
     "name": "stderr",
     "output_type": "stream",
     "text": [
      "Calculating best minimal value for power law fit\n",
      "Calculating best minimal value for power law fit\n"
     ]
    },
    {
     "name": "stdout",
     "output_type": "stream",
     "text": [
      "627129\n",
      "641382\n"
     ]
    },
    {
     "name": "stderr",
     "output_type": "stream",
     "text": [
      "Calculating best minimal value for power law fit\n",
      "Calculating best minimal value for power law fit\n"
     ]
    },
    {
     "name": "stdout",
     "output_type": "stream",
     "text": [
      "655635\n",
      "669888\n"
     ]
    },
    {
     "name": "stderr",
     "output_type": "stream",
     "text": [
      "Calculating best minimal value for power law fit\n",
      "Calculating best minimal value for power law fit\n"
     ]
    },
    {
     "name": "stdout",
     "output_type": "stream",
     "text": [
      "684141\n",
      "698394\n"
     ]
    },
    {
     "name": "stderr",
     "output_type": "stream",
     "text": [
      "Calculating best minimal value for power law fit\n",
      "Calculating best minimal value for power law fit\n"
     ]
    },
    {
     "name": "stdout",
     "output_type": "stream",
     "text": [
      "712647\n"
     ]
    },
    {
     "name": "stderr",
     "output_type": "stream",
     "text": [
      "Calculating best minimal value for power law fit\n"
     ]
    },
    {
     "data": {
      "image/png": "[encoded data removed]",
      "text/plain": [
       "<Figure size 432x288 with 1 Axes>"
      ]
     },
     "metadata": {
      "needs_background": "light"
     },
     "output_type": "display_data"
    }
   ],
   "source": [
    "alphaList=[]\n",
    "sigmaList=[]\n",
    "\n",
    "for frac in z:\n",
    "    rowNum=int(frac*numRows)\n",
    "    print(rowNum)\n",
    "    rankedRoles=roles1['normalisedLongestMatch'][0:rowNum].value_counts()  \n",
    "    dfRankedRoles=pd.DataFrame({'rank':range(0,rankedRoles.shape[0]),'count':rankedRoles.values})\n",
    "    x=dfRankedRoles['rank']\n",
    "    y=dfRankedRoles['count']\n",
    "    yLog=np.log(dfRankedRoles['count'])\n",
    "    #dfRankedRoles.plot('rank','count',kind='line')\n",
    "    plt.plot(x,y)\n",
    "    fit=powerlaw.Fit(y)\n",
    "    alphaList.append(fit.alpha)\n",
    "    sigmaList.append(fit.sigma)"
   ]
  },
  {
   "cell_type": "code",
   "execution_count": 213,
   "metadata": {},
   "outputs": [
    {
     "data": {
      "text/plain": [
       "[<matplotlib.lines.Line2D at 0x132ef7bd0>]"
      ]
     },
     "execution_count": 213,
     "metadata": {},
     "output_type": "execute_result"
    },
    {
     "data": {
      "image/png": "[encoded data removed]",
      "text/plain": [
       "<Figure size 432x288 with 1 Axes>"
      ]
     },
     "metadata": {
      "needs_background": "light"
     },
     "output_type": "display_data"
    }
   ],
   "source": [
    "plt.plot(alphaList)"
   ]
  },
  {
   "cell_type": "code",
   "execution_count": 156,
   "metadata": {},
   "outputs": [
    {
     "ename": "SyntaxError",
     "evalue": "invalid syntax (<ipython-input-156-5af393b9ddc9>, line 1)",
     "output_type": "error",
     "traceback": [
      "\u001b[0;36m  File \u001b[0;32m\"<ipython-input-156-5af393b9ddc9>\"\u001b[0;36m, line \u001b[0;32m1\u001b[0m\n\u001b[0;31m    alphaList={alphaList fit.alpha}\u001b[0m\n\u001b[0m                           ^\u001b[0m\n\u001b[0;31mSyntaxError\u001b[0m\u001b[0;31m:\u001b[0m invalid syntax\n"
     ]
    }
   ],
   "source": []
  },
  {
   "cell_type": "code",
   "execution_count": 177,
   "metadata": {},
   "outputs": [
    {
     "data": {
      "text/plain": [
       "<matplotlib.axes._subplots.AxesSubplot at 0x13065c6d0>"
      ]
     },
     "execution_count": 177,
     "metadata": {},
     "output_type": "execute_result"
    },
    {
     "data": {
      "image/png": "[encoded data removed]",
      "text/plain": [
       "<Figure size 432x288 with 1 Axes>"
      ]
     },
     "metadata": {
      "needs_background": "light"
     },
     "output_type": "display_data"
    }
   ],
   "source": [
    "powerlaw.plot_pdf(y, linear_bins=True)"
   ]
  },
  {
   "cell_type": "code",
   "execution_count": 178,
   "metadata": {},
   "outputs": [
    {
     "data": {
      "text/plain": [
       "<matplotlib.axes._subplots.AxesSubplot at 0x1496b9d50>"
      ]
     },
     "execution_count": 178,
     "metadata": {},
     "output_type": "execute_result"
    },
    {
     "data": {
      "image/png": "[encoded data removed]",
      "text/plain": [
       "<Figure size 432x288 with 1 Axes>"
      ]
     },
     "metadata": {
      "needs_background": "light"
     },
     "output_type": "display_data"
    }
   ],
   "source": [
    "fig2 = fit.plot_pdf(color='b', linewidth=2)\n",
    "fit.power_law.plot_pdf(color='b',linestyle='--',ax=fig2)\n",
    "fit.plot_ccdf(color='r', linewidth=2, ax=fig2)\n",
    "fit.power_law.plot_ccdf(color='r', linestyle='--', ax=fig2)"
   ]
  },
  {
   "cell_type": "code",
   "execution_count": 192,
   "metadata": {},
   "outputs": [],
   "source": [
    "#now do the same as above but with 50 samples of size x, randomly drawn from the full dataset\n",
    "\n",
    "sampleSize = 20000\n",
    "Start = 0\n",
    "Stop = numRows -1 \n",
    "limit = sampleSize\n",
    "\n",
    "# List of random integers chosen from a range\n",
    "randomSample = random.sample(range(Start, Stop), limit)"
   ]
  },
  {
   "cell_type": "code",
   "execution_count": 196,
   "metadata": {},
   "outputs": [
    {
     "name": "stderr",
     "output_type": "stream",
     "text": [
      "Calculating best minimal value for power law fit\n",
      "Calculating best minimal value for power law fit\n",
      "Calculating best minimal value for power law fit\n",
      "Calculating best minimal value for power law fit\n",
      "Calculating best minimal value for power law fit\n",
      "Calculating best minimal value for power law fit\n",
      "Calculating best minimal value for power law fit\n",
      "Calculating best minimal value for power law fit\n",
      "Calculating best minimal value for power law fit\n",
      "Calculating best minimal value for power law fit\n",
      "Calculating best minimal value for power law fit\n",
      "Calculating best minimal value for power law fit\n",
      "Calculating best minimal value for power law fit\n",
      "Calculating best minimal value for power law fit\n",
      "Calculating best minimal value for power law fit\n",
      "Calculating best minimal value for power law fit\n",
      "Calculating best minimal value for power law fit\n",
      "Calculating best minimal value for power law fit\n",
      "Calculating best minimal value for power law fit\n",
      "Calculating best minimal value for power law fit\n",
      "Calculating best minimal value for power law fit\n",
      "Calculating best minimal value for power law fit\n",
      "Calculating best minimal value for power law fit\n",
      "Calculating best minimal value for power law fit\n",
      "Calculating best minimal value for power law fit\n",
      "Calculating best minimal value for power law fit\n",
      "Calculating best minimal value for power law fit\n",
      "Calculating best minimal value for power law fit\n",
      "Calculating best minimal value for power law fit\n",
      "Calculating best minimal value for power law fit\n",
      "Calculating best minimal value for power law fit\n",
      "Calculating best minimal value for power law fit\n",
      "Calculating best minimal value for power law fit\n",
      "Calculating best minimal value for power law fit\n",
      "Calculating best minimal value for power law fit\n",
      "Calculating best minimal value for power law fit\n",
      "Calculating best minimal value for power law fit\n",
      "Calculating best minimal value for power law fit\n",
      "Calculating best minimal value for power law fit\n"
     ]
    },
    {
     "data": {
      "image/png": "[encoded data removed]",
      "text/plain": [
       "<Figure size 432x288 with 1 Axes>"
      ]
     },
     "metadata": {
      "needs_background": "light"
     },
     "output_type": "display_data"
    }
   ],
   "source": [
    "alphaList=[]\n",
    "sigmaList=[]\n",
    "numSamples = 40\n",
    "\n",
    "for frac in range(1,numSamples):\n",
    "    randomSample = random.sample(range(Start, Stop), limit)\n",
    "    rankedRoles=roles1['normalisedLongestMatch'][randomSample].value_counts()  \n",
    "    dfRankedRoles=pd.DataFrame({'rank':range(0,rankedRoles.shape[0]),'count':rankedRoles.values})\n",
    "    x=dfRankedRoles['rank']\n",
    "    y=dfRankedRoles['count']\n",
    "    yLog=np.log(dfRankedRoles['count'])\n",
    "    #dfRankedRoles.plot('rank','count',kind='line')\n",
    "    plt.plot(x,y)\n",
    "    fit=powerlaw.Fit(y)\n",
    "    alphaList.append(fit.alpha)\n",
    "    sigmaList.append(fit.sigma)"
   ]
  },
  {
   "cell_type": "code",
   "execution_count": 214,
   "metadata": {},
   "outputs": [
    {
     "data": {
      "text/plain": [
       "[<matplotlib.lines.Line2D at 0x130c41310>]"
      ]
     },
     "execution_count": 214,
     "metadata": {},
     "output_type": "execute_result"
    },
    {
     "data": {
      "image/png": "[encoded data removed]",
      "text/plain": [
       "<Figure size 432x288 with 1 Axes>"
      ]
     },
     "metadata": {
      "needs_background": "light"
     },
     "output_type": "display_data"
    }
   ],
   "source": [
    "plt.plot(alphaList)"
   ]
  },
  {
   "cell_type": "code",
   "execution_count": 195,
   "metadata": {},
   "outputs": [
    {
     "data": {
      "text/plain": [
       "<bound method NDFrame.tail of 0       249\n",
       "1       202\n",
       "2       168\n",
       "3       165\n",
       "4       145\n",
       "       ... \n",
       "5029      1\n",
       "5030      1\n",
       "5031      1\n",
       "5032      1\n",
       "5033      1\n",
       "Name: count, Length: 5034, dtype: int64>"
      ]
     },
     "execution_count": 195,
     "metadata": {},
     "output_type": "execute_result"
    }
   ],
   "source": [
    "y.tail"
   ]
  },
  {
   "cell_type": "code",
   "execution_count": 216,
   "metadata": {},
   "outputs": [],
   "source": [
    "ySingle=y[y==1]"
   ]
  },
  {
   "cell_type": "code",
   "execution_count": 230,
   "metadata": {},
   "outputs": [
    {
     "data": {
      "text/plain": [
       "Int64Index([14915, 14916, 14917, 14918, 14919, 14920, 14921, 14922, 14923,\n",
       "            14924,\n",
       "            ...\n",
       "            17088, 17089, 17090, 17091, 17092, 17093, 17094, 17095, 17096,\n",
       "            17097],\n",
       "           dtype='int64', length=2183)"
      ]
     },
     "execution_count": 230,
     "metadata": {},
     "output_type": "execute_result"
    }
   ],
   "source": [
    "ySingle.index"
   ]
  },
  {
   "cell_type": "code",
   "execution_count": 221,
   "metadata": {},
   "outputs": [
    {
     "data": {
      "text/plain": [
       "pandas.core.indexes.base.Index"
      ]
     },
     "execution_count": 221,
     "metadata": {},
     "output_type": "execute_result"
    }
   ],
   "source": [
    "rankedRoles.index"
   ]
  },
  {
   "cell_type": "code",
   "execution_count": 249,
   "metadata": {},
   "outputs": [],
   "source": [
    "idx1 = pd.Index([1, 2, 3, 4])\n",
    "idx2 = pd.Index([3, 4, 5])"
   ]
  },
  {
   "cell_type": "code",
   "execution_count": 250,
   "metadata": {},
   "outputs": [],
   "source": [
    "over=idx1.intersection(idx2)"
   ]
  },
  {
   "cell_type": "code",
   "execution_count": 251,
   "metadata": {},
   "outputs": [
    {
     "data": {
      "text/plain": [
       "2"
      ]
     },
     "execution_count": 251,
     "metadata": {},
     "output_type": "execute_result"
    }
   ],
   "source": [
    "len(over)"
   ]
  },
  {
   "cell_type": "code",
   "execution_count": 283,
   "metadata": {},
   "outputs": [],
   "source": [
    "#now do the same as above but with 50 samples of size x, randomly drawn from the full dataset\n",
    "numSamples=5\n",
    "z = [decimal.Decimal(i) / decimal.Decimal(numSamples) for i in range(1, numSamples + 1)]"
   ]
  },
  {
   "cell_type": "code",
   "execution_count": 284,
   "metadata": {},
   "outputs": [
    {
     "name": "stdout",
     "output_type": "stream",
     "text": [
      "1140236\n"
     ]
    }
   ],
   "source": [
    "# First do the sample that will be the 'capture' part of the 'capture-recapture'\n",
    "frac=z[1]\n",
    "rowNumUpper=int(frac*numRows)\n",
    "print(rowNumUpper)\n",
    "rankedRoles=roles1['normalisedLongestMatch'][0:rowNumUpper].value_counts()  \n",
    "captureTitles=rankedRoles.index[rankedRoles.values==1]\n",
    "lengthCapture=len(captureTitles)"
   ]
  },
  {
   "cell_type": "code",
   "execution_count": 285,
   "metadata": {},
   "outputs": [
    {
     "name": "stdout",
     "output_type": "stream",
     "text": [
      "1710354\n",
      "2280472\n",
      "2850590\n"
     ]
    }
   ],
   "source": [
    "overlap=[]\n",
    "\n",
    "for frac in z[2:]:\n",
    "    rowNumLower=rowNumUpper+1\n",
    "    rowNumUpper=int(frac*numRows)\n",
    "    print(rowNumUpper)\n",
    "    rankedRoles=roles1['normalisedLongestMatch'][rowNumLower:rowNumUpper].value_counts()  \n",
    "    recaptureTitles=rankedRoles.index[rankedRoles.values==1]\n",
    "    capRecap=captureTitles.intersection(recaptureTitles)\n",
    "    fracCapRecap=len(capRecap)/len(recaptureTitles)\n",
    "    overlap.append(lengthCapture/fracCapRecap)\n",
    "    "
   ]
  },
  {
   "cell_type": "code",
   "execution_count": 291,
   "metadata": {},
   "outputs": [
    {
     "data": {
      "text/plain": [
       "16105"
      ]
     },
     "execution_count": 291,
     "metadata": {},
     "output_type": "execute_result"
    }
   ],
   "source": [
    "len(rankedRoles)"
   ]
  },
  {
   "cell_type": "code",
   "execution_count": 289,
   "metadata": {},
   "outputs": [
    {
     "data": {
      "text/plain": [
       "[10532.732394366198, 11715.0, 12254.894308943089]"
      ]
     },
     "execution_count": 289,
     "metadata": {},
     "output_type": "execute_result"
    }
   ],
   "source": [
    "overlap"
   ]
  },
  {
   "cell_type": "code",
   "execution_count": null,
   "metadata": {},
   "outputs": [],
   "source": []
  }
 ],
 "metadata": {
  "kernelspec": {
   "display_name": "Python 3",
   "language": "python",
   "name": "python3"
  },
  "language_info": {
   "codemirror_mode": {
    "name": "ipython",
    "version": 3
   },
   "file_extension": ".py",
   "mimetype": "text/x-python",
   "name": "python",
   "nbconvert_exporter": "python",
   "pygments_lexer": "ipython3",
   "version": "3.7.4"
  }
 },
 "nbformat": 4,
 "nbformat_minor": 4
}
